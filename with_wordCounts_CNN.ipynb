{
 "cells": [
  {
   "cell_type": "code",
   "execution_count": 0,
   "metadata": {
    "colab": {},
    "colab_type": "code",
    "id": "ZvyqlP7AM23F"
   },
   "outputs": [],
   "source": [
    "import nltk\n",
    "nltk.download('all')"
   ]
  },
  {
   "cell_type": "code",
   "execution_count": 85,
   "metadata": {
    "colab": {
     "base_uri": "https://localhost:8080/",
     "height": 33
    },
    "colab_type": "code",
    "id": "qb5iLxxOhe_G",
    "outputId": "48260232-c92d-4f4f-9576-fcdb8ec3894b"
   },
   "outputs": [
    {
     "name": "stdout",
     "output_type": "stream",
     "text": [
      "2.2.0\n"
     ]
    }
   ],
   "source": [
    "import tensorflow as tf\n",
    "from tensorflow import keras\n",
    "from tensorflow.keras import Sequential\n",
    "from tensorflow.keras.layers import Flatten,Dense, Dropout, BatchNormalization\n",
    "from tensorflow.keras.layers import Conv1D,MaxPool1D\n",
    "from tensorflow.keras.preprocessing.image import ImageDataGenerator\n",
    "\n",
    "from tensorflow.keras.optimizers import Adam\n",
    "\n",
    "import re,string,unicodedata\n",
    "from bs4 import BeautifulSoup\n",
    "from sklearn.preprocessing import LabelBinarizer\n",
    "\n",
    "from nltk.corpus import stopwords\n",
    "from nltk.stem.porter import PorterStemmer\n",
    "from wordcloud import WordCloud,STOPWORDS\n",
    "from nltk.stem import WordNetLemmatizer\n",
    "from nltk.tokenize import word_tokenize,sent_tokenize\n",
    "import re,string,unicodedata\n",
    "from nltk.tokenize.toktok import ToktokTokenizer\n",
    "from nltk.stem import LancasterStemmer,WordNetLemmatizer\n",
    "\n",
    "print(tf.__version__)"
   ]
  },
  {
   "cell_type": "code",
   "execution_count": 0,
   "metadata": {
    "colab": {},
    "colab_type": "code",
    "id": "GOd6ZOkThni0"
   },
   "outputs": [],
   "source": [
    "import pandas as pd\n",
    "import numpy as np\n",
    "import seaborn as sns\n",
    "import matplotlib.pyplot as plt"
   ]
  },
  {
   "cell_type": "code",
   "execution_count": 0,
   "metadata": {
    "colab": {},
    "colab_type": "code",
    "id": "mfxDkDAlhqta"
   },
   "outputs": [],
   "source": [
    "catWiki = pd.read_csv(\"/content/catWiki.txt\", sep='\\n', header=None)\n",
    "dogWiki = pd.read_csv(\"/content/dogWiki.txt\", sep='\\n', header=None)\n",
    "\n",
    "catWiki.columns = ['text']\n",
    "dogWiki.columns = ['text']"
   ]
  },
  {
   "cell_type": "code",
   "execution_count": 88,
   "metadata": {
    "colab": {
     "base_uri": "https://localhost:8080/",
     "height": 197
    },
    "colab_type": "code",
    "id": "c4dD_NmriSUz",
    "outputId": "b3f41c8f-b36c-46a6-a5ac-1f605986a716"
   },
   "outputs": [
    {
     "data": {
      "text/html": [
       "<div>\n",
       "<style scoped>\n",
       "    .dataframe tbody tr th:only-of-type {\n",
       "        vertical-align: middle;\n",
       "    }\n",
       "\n",
       "    .dataframe tbody tr th {\n",
       "        vertical-align: top;\n",
       "    }\n",
       "\n",
       "    .dataframe thead th {\n",
       "        text-align: right;\n",
       "    }\n",
       "</style>\n",
       "<table border=\"1\" class=\"dataframe\">\n",
       "  <thead>\n",
       "    <tr style=\"text-align: right;\">\n",
       "      <th></th>\n",
       "      <th>text</th>\n",
       "      <th>class</th>\n",
       "    </tr>\n",
       "  </thead>\n",
       "  <tbody>\n",
       "    <tr>\n",
       "      <th>0</th>\n",
       "      <td>The cat (Felis catus) is a domestic species of...</td>\n",
       "      <td>cat</td>\n",
       "    </tr>\n",
       "    <tr>\n",
       "      <th>1</th>\n",
       "      <td>The cat is similar in anatomy to the other fel...</td>\n",
       "      <td>cat</td>\n",
       "    </tr>\n",
       "    <tr>\n",
       "      <th>2</th>\n",
       "      <td>Female domestic cats can have kittens from spr...</td>\n",
       "      <td>cat</td>\n",
       "    </tr>\n",
       "    <tr>\n",
       "      <th>3</th>\n",
       "      <td>Cats were first domesticated in the Near East ...</td>\n",
       "      <td>cat</td>\n",
       "    </tr>\n",
       "    <tr>\n",
       "      <th>4</th>\n",
       "      <td>As of 2017, the domestic cat was the second-mo...</td>\n",
       "      <td>cat</td>\n",
       "    </tr>\n",
       "  </tbody>\n",
       "</table>\n",
       "</div>"
      ],
      "text/plain": [
       "                                                text class\n",
       "0  The cat (Felis catus) is a domestic species of...   cat\n",
       "1  The cat is similar in anatomy to the other fel...   cat\n",
       "2  Female domestic cats can have kittens from spr...   cat\n",
       "3  Cats were first domesticated in the Near East ...   cat\n",
       "4  As of 2017, the domestic cat was the second-mo...   cat"
      ]
     },
     "execution_count": 88,
     "metadata": {
      "tags": []
     },
     "output_type": "execute_result"
    }
   ],
   "source": [
    "catWiki['class'] = 'cat'\n",
    "dogWiki['class'] = 'dog'\n",
    "data = catWiki\n",
    "data = data.append(dogWiki)\n",
    "data.head()"
   ]
  },
  {
   "cell_type": "code",
   "execution_count": 89,
   "metadata": {
    "colab": {
     "base_uri": "https://localhost:8080/",
     "height": 33
    },
    "colab_type": "code",
    "id": "HFckbv28jEAH",
    "outputId": "b2fd04f8-e9d8-410b-b281-a352c3b2c0fe"
   },
   "outputs": [
    {
     "data": {
      "text/plain": [
       "Index(['text', 'class'], dtype='object')"
      ]
     },
     "execution_count": 89,
     "metadata": {
      "tags": []
     },
     "output_type": "execute_result"
    }
   ],
   "source": [
    "data.columns"
   ]
  },
  {
   "cell_type": "code",
   "execution_count": 0,
   "metadata": {
    "colab": {},
    "colab_type": "code",
    "id": "ZDHRzIHvKZuM"
   },
   "outputs": [],
   "source": [
    "#Tokenization of text\n",
    "tokenizer=ToktokTokenizer()\n",
    "#Setting English stopwords\n",
    "stopword_list=nltk.corpus.stopwords.words('english')"
   ]
  },
  {
   "cell_type": "code",
   "execution_count": 0,
   "metadata": {
    "colab": {},
    "colab_type": "code",
    "id": "tCGE9F9LCIaf"
   },
   "outputs": [],
   "source": [
    "#Removing the html strips\n",
    "def strip_html(text):\n",
    "    soup = BeautifulSoup(text, \"html.parser\")\n",
    "    return soup.get_text()\n",
    "\n",
    "#Removing the square brackets\n",
    "def remove_between_square_brackets(text):\n",
    "    return re.sub('\\[[^]]*\\]', '', text)\n",
    "\n",
    "#Removing the noisy text\n",
    "def denoise_text(text):\n",
    "    text = strip_html(text)\n",
    "    text = remove_between_square_brackets(text)\n",
    "    return text\n",
    "    \n",
    "#Apply function on text column\n",
    "data['text']=data['text'].apply(denoise_text)"
   ]
  },
  {
   "cell_type": "code",
   "execution_count": 0,
   "metadata": {
    "colab": {},
    "colab_type": "code",
    "id": "bMOTbwaJD9yT"
   },
   "outputs": [],
   "source": [
    "#Define function for removing special characters\n",
    "def remove_special_characters(text, remove_digits=True):\n",
    "    pattern=r'[^a-zA-z0-9\\s]'\n",
    "    text=re.sub(pattern,'',text)\n",
    "    return text\n",
    "\n",
    "#Apply function on text column\n",
    "data['text']=data['text'].apply(denoise_text)"
   ]
  },
  {
   "cell_type": "code",
   "execution_count": 94,
   "metadata": {
    "colab": {
     "base_uri": "https://localhost:8080/",
     "height": 53
    },
    "colab_type": "code",
    "id": "MVO4_3NsLU6X",
    "outputId": "9a25464a-4eb4-41d0-c30d-dfb43d057a53"
   },
   "outputs": [
    {
     "name": "stdout",
     "output_type": "stream",
     "text": [
      "{'why', 'ain', 'ourselves', 'can', 'y', \"couldn't\", 'over', 'to', 'yours', 'were', 't', 'these', 'during', 'so', 'they', 'should', 'more', \"won't\", 'does', 'now', \"mightn't\", 'a', 'out', 'with', 'further', 'about', 'll', 'ma', 'through', \"you've\", 'won', 'few', 'while', 'am', 'and', \"needn't\", 'o', 'that', \"shan't\", 'do', 'on', 'me', 'very', 'd', \"isn't\", 'under', 'wasn', 'm', 'myself', 'into', 've', 'been', \"she's\", 'are', 'hasn', 'or', 'then', 'has', 'above', 'is', 'our', 'if', 'against', 'too', 'other', 'only', \"that'll\", \"hasn't\", 'which', 'of', 'herself', 's', 'both', 'who', 'himself', \"haven't\", 'aren', 'you', \"wasn't\", 'hers', \"you'll\", 'most', 'we', 'don', 'she', 'their', 'be', 'here', 'him', 'his', 'mightn', 'yourselves', 'whom', 'had', 'all', 'such', 'because', 'what', \"wouldn't\", 'each', 'down', 'in', \"shouldn't\", 'than', 'shan', 'i', 'hadn', 'as', 'shouldn', 'same', 'where', \"you're\", 'did', 'own', 'no', 'doing', 'up', 'not', 'once', \"weren't\", 'there', 'your', 'until', 'the', 'again', 'an', 'my', 'her', 'theirs', 'yourself', 'this', 'have', 'was', 'doesn', 'below', 'by', 'being', \"it's\", 'couldn', 'how', 'ours', 'weren', 'needn', 'just', 'off', 'any', 'at', 'before', 'but', \"didn't\", \"mustn't\", 'nor', \"don't\", \"you'd\", 'between', \"doesn't\", 'from', 'themselves', \"hadn't\", 'mustn', 'having', 'itself', 'for', 'isn', 'haven', 'didn', 'after', \"aren't\", 'wouldn', 'he', 'it', 'them', 'those', 'will', 'its', 're', 'when', 'some', \"should've\"}\n"
     ]
    }
   ],
   "source": [
    "#set stopwords to english\n",
    "stop=set(stopwords.words('english'))\n",
    "print(stop)\n",
    "\n",
    "#removing the stopwords\n",
    "def remove_stopwords(text, is_lower_case=False):\n",
    "    tokens = tokenizer.tokenize(text)\n",
    "    tokens = [token.strip() for token in tokens]\n",
    "    if is_lower_case:\n",
    "        filtered_tokens = [token for token in tokens if token not in stopword_list]\n",
    "    else:\n",
    "        filtered_tokens = [token for token in tokens if token.lower() not in stopword_list]\n",
    "    filtered_text = ' '.join(filtered_tokens)    \n",
    "    return filtered_text\n",
    "\n",
    "#Apply function on text column\n",
    "data['text']=data['text'].apply(remove_stopwords)"
   ]
  },
  {
   "cell_type": "code",
   "execution_count": 95,
   "metadata": {
    "colab": {
     "base_uri": "https://localhost:8080/",
     "height": 33
    },
    "colab_type": "code",
    "id": "230NabUXEJ6v",
    "outputId": "e8b84d5f-6d27-4e09-bb18-b01d816a3a31"
   },
   "outputs": [
    {
     "name": "stdout",
     "output_type": "stream",
     "text": [
      "(290, 1)\n"
     ]
    }
   ],
   "source": [
    "from sklearn.preprocessing import LabelBinarizer\n",
    "#labeling the data\n",
    "lb=LabelBinarizer()\n",
    "#transformed Label data\n",
    "label_data=lb.fit_transform(data['class'])\n",
    "#label_data\n",
    "print(label_data.shape)\n",
    "\n",
    "# labeling convert the classes as cat as \"0\" and Dog as \"1\""
   ]
  },
  {
   "cell_type": "code",
   "execution_count": 96,
   "metadata": {
    "colab": {
     "base_uri": "https://localhost:8080/",
     "height": 197
    },
    "colab_type": "code",
    "id": "L6fRWGSpEd2J",
    "outputId": "a50c2953-ed59-4961-b098-8aa61960094b"
   },
   "outputs": [
    {
     "data": {
      "text/html": [
       "<div>\n",
       "<style scoped>\n",
       "    .dataframe tbody tr th:only-of-type {\n",
       "        vertical-align: middle;\n",
       "    }\n",
       "\n",
       "    .dataframe tbody tr th {\n",
       "        vertical-align: top;\n",
       "    }\n",
       "\n",
       "    .dataframe thead th {\n",
       "        text-align: right;\n",
       "    }\n",
       "</style>\n",
       "<table border=\"1\" class=\"dataframe\">\n",
       "  <thead>\n",
       "    <tr style=\"text-align: right;\">\n",
       "      <th></th>\n",
       "      <th>text</th>\n",
       "      <th>class</th>\n",
       "    </tr>\n",
       "  </thead>\n",
       "  <tbody>\n",
       "    <tr>\n",
       "      <th>0</th>\n",
       "      <td>cat ( Felis catus ) domestic species small car...</td>\n",
       "      <td>cat</td>\n",
       "    </tr>\n",
       "    <tr>\n",
       "      <th>1</th>\n",
       "      <td>cat similar anatomy felid species : strong fle...</td>\n",
       "      <td>cat</td>\n",
       "    </tr>\n",
       "    <tr>\n",
       "      <th>2</th>\n",
       "      <td>Female domestic cats kittens spring late autum...</td>\n",
       "      <td>cat</td>\n",
       "    </tr>\n",
       "    <tr>\n",
       "      <th>3</th>\n",
       "      <td>Cats first domesticated Near East around 7500 ...</td>\n",
       "      <td>cat</td>\n",
       "    </tr>\n",
       "    <tr>\n",
       "      <th>4</th>\n",
       "      <td>2017 , domestic cat second-most popular pet Un...</td>\n",
       "      <td>cat</td>\n",
       "    </tr>\n",
       "  </tbody>\n",
       "</table>\n",
       "</div>"
      ],
      "text/plain": [
       "                                                text class\n",
       "0  cat ( Felis catus ) domestic species small car...   cat\n",
       "1  cat similar anatomy felid species : strong fle...   cat\n",
       "2  Female domestic cats kittens spring late autum...   cat\n",
       "3  Cats first domesticated Near East around 7500 ...   cat\n",
       "4  2017 , domestic cat second-most popular pet Un...   cat"
      ]
     },
     "execution_count": 96,
     "metadata": {
      "tags": []
     },
     "output_type": "execute_result"
    }
   ],
   "source": [
    "#data.to_csv('/content/csvfiles/Boths_cats_and_dogs.csv')\n",
    "data.head()"
   ]
  },
  {
   "cell_type": "code",
   "execution_count": 0,
   "metadata": {
    "colab": {},
    "colab_type": "code",
    "id": "mm8QHFlnEwpa"
   },
   "outputs": [],
   "source": [
    "data['label'] = label_data"
   ]
  },
  {
   "cell_type": "code",
   "execution_count": 98,
   "metadata": {
    "colab": {
     "base_uri": "https://localhost:8080/",
     "height": 407
    },
    "colab_type": "code",
    "id": "Ud0WpAItFQ8B",
    "outputId": "fb60d806-a6fd-4262-cc3e-f0832f428e1a"
   },
   "outputs": [
    {
     "data": {
      "text/html": [
       "<div>\n",
       "<style scoped>\n",
       "    .dataframe tbody tr th:only-of-type {\n",
       "        vertical-align: middle;\n",
       "    }\n",
       "\n",
       "    .dataframe tbody tr th {\n",
       "        vertical-align: top;\n",
       "    }\n",
       "\n",
       "    .dataframe thead th {\n",
       "        text-align: right;\n",
       "    }\n",
       "</style>\n",
       "<table border=\"1\" class=\"dataframe\">\n",
       "  <thead>\n",
       "    <tr style=\"text-align: right;\">\n",
       "      <th></th>\n",
       "      <th>text</th>\n",
       "      <th>class</th>\n",
       "      <th>label</th>\n",
       "    </tr>\n",
       "  </thead>\n",
       "  <tbody>\n",
       "    <tr>\n",
       "      <th>0</th>\n",
       "      <td>cat ( Felis catus ) domestic species small car...</td>\n",
       "      <td>cat</td>\n",
       "      <td>0</td>\n",
       "    </tr>\n",
       "    <tr>\n",
       "      <th>1</th>\n",
       "      <td>cat similar anatomy felid species : strong fle...</td>\n",
       "      <td>cat</td>\n",
       "      <td>0</td>\n",
       "    </tr>\n",
       "    <tr>\n",
       "      <th>2</th>\n",
       "      <td>Female domestic cats kittens spring late autum...</td>\n",
       "      <td>cat</td>\n",
       "      <td>0</td>\n",
       "    </tr>\n",
       "    <tr>\n",
       "      <th>3</th>\n",
       "      <td>Cats first domesticated Near East around 7500 ...</td>\n",
       "      <td>cat</td>\n",
       "      <td>0</td>\n",
       "    </tr>\n",
       "    <tr>\n",
       "      <th>4</th>\n",
       "      <td>2017 , domestic cat second-most popular pet Un...</td>\n",
       "      <td>cat</td>\n",
       "      <td>0</td>\n",
       "    </tr>\n",
       "    <tr>\n",
       "      <th>...</th>\n",
       "      <td>...</td>\n",
       "      <td>...</td>\n",
       "      <td>...</td>\n",
       "    </tr>\n",
       "    <tr>\n",
       "      <th>166</th>\n",
       "      <td>Art</td>\n",
       "      <td>dog</td>\n",
       "      <td>1</td>\n",
       "    </tr>\n",
       "    <tr>\n",
       "      <th>167</th>\n",
       "      <td>Main article : Cultural depictions dogs Wester...</td>\n",
       "      <td>dog</td>\n",
       "      <td>1</td>\n",
       "    </tr>\n",
       "    <tr>\n",
       "      <th>168</th>\n",
       "      <td>Cultural depictions dogs art extend back thous...</td>\n",
       "      <td>dog</td>\n",
       "      <td>1</td>\n",
       "    </tr>\n",
       "    <tr>\n",
       "      <th>169</th>\n",
       "      <td>Education appreciation</td>\n",
       "      <td>dog</td>\n",
       "      <td>1</td>\n",
       "    </tr>\n",
       "    <tr>\n",
       "      <th>170</th>\n",
       "      <td>American Kennel Club reopened museum called \" ...</td>\n",
       "      <td>dog</td>\n",
       "      <td>1</td>\n",
       "    </tr>\n",
       "  </tbody>\n",
       "</table>\n",
       "<p>290 rows × 3 columns</p>\n",
       "</div>"
      ],
      "text/plain": [
       "                                                  text class  label\n",
       "0    cat ( Felis catus ) domestic species small car...   cat      0\n",
       "1    cat similar anatomy felid species : strong fle...   cat      0\n",
       "2    Female domestic cats kittens spring late autum...   cat      0\n",
       "3    Cats first domesticated Near East around 7500 ...   cat      0\n",
       "4    2017 , domestic cat second-most popular pet Un...   cat      0\n",
       "..                                                 ...   ...    ...\n",
       "166                                                Art   dog      1\n",
       "167  Main article : Cultural depictions dogs Wester...   dog      1\n",
       "168  Cultural depictions dogs art extend back thous...   dog      1\n",
       "169                             Education appreciation   dog      1\n",
       "170  American Kennel Club reopened museum called \" ...   dog      1\n",
       "\n",
       "[290 rows x 3 columns]"
      ]
     },
     "execution_count": 98,
     "metadata": {
      "tags": []
     },
     "output_type": "execute_result"
    }
   ],
   "source": [
    "data"
   ]
  },
  {
   "cell_type": "markdown",
   "metadata": {
    "colab_type": "text",
    "id": "o0tacvy2F6-9"
   },
   "source": [
    "**Word Counts with CountVectorizer**\n",
    "The CountVectorizer provides a simple way to both tokenize a collection of text documents and build a vocabulary of known words, but also to encode new documents using that vocabulary.\n",
    "\n",
    "You can use it as follows:\n",
    "\n",
    "Create an instance of the CountVectorizer class.\n",
    "Call the fit() function in order to learn a vocabulary from one or more documents.\n",
    "Call the transform() function on one or more documents as needed to encode each as a vector.\n",
    "An encoded vector is returned with a length of the entire vocabulary and an integer count for the number of times each word appeared in the document.\n",
    "\n",
    "\n"
   ]
  },
  {
   "cell_type": "markdown",
   "metadata": {
    "colab_type": "text",
    "id": "qFsG_VcnG54d"
   },
   "source": [
    "**Feature Engineering**"
   ]
  },
  {
   "cell_type": "code",
   "execution_count": 174,
   "metadata": {
    "colab": {
     "base_uri": "https://localhost:8080/",
     "height": 203
    },
    "colab_type": "code",
    "id": "QofIuPsTGoOt",
    "outputId": "92283252-c78e-4b58-b57f-8732afae1c73"
   },
   "outputs": [
    {
     "name": "stdout",
     "output_type": "stream",
     "text": [
      "{'cat': 7, 'domestic': 11, 'species': 31, 'domesticated': 12, 'often': 24, 'feral': 14, 'human': 17, 'cats': 8, 'humans': 18, 'breeds': 6, 'body': 4, 'prey': 29, 'like': 20, 'social': 30, 'female': 13, 'two': 33, 'known': 19, 'pet': 27, 'pets': 28, 'first': 15, 'also': 0, 'may': 23, 'years': 36, 'animals': 1, 'behavior': 3, 'main': 21, 'article': 2, 'one': 25, 'many': 22, 'study': 32, 'health': 16, 'dog': 9, 'breed': 5, 'people': 26, 'dogs': 10, 'wolf': 34, 'wolves': 35}\n",
      "(290, 37)\n",
      "<class 'scipy.sparse.csr.csr_matrix'>\n",
      "[[0 0 0 ... 0 0 0]\n",
      " [0 0 0 ... 0 0 0]\n",
      " [0 0 0 ... 0 0 0]\n",
      " ...\n",
      " [0 0 0 ... 0 0 1]\n",
      " [0 0 0 ... 0 0 0]\n",
      " [0 0 0 ... 0 0 0]]\n"
     ]
    }
   ],
   "source": [
    "from sklearn.feature_extraction.text import CountVectorizer\n",
    "# list of text documents\n",
    "text = data['text']\n",
    "# create the transform\n",
    "vectorizer = CountVectorizer(min_df=5, max_features=37)\n",
    "# tokenize and build vocab\n",
    "vectorizer.fit(text)\n",
    "# summarize\n",
    "print(vectorizer.vocabulary_)\n",
    "# encode document\n",
    "vector = vectorizer.transform(text)\n",
    "# summarize encoded vector\n",
    "print(vector.shape)\n",
    "print(type(vector))\n",
    "print(vector.toarray())"
   ]
  },
  {
   "cell_type": "code",
   "execution_count": 175,
   "metadata": {
    "colab": {
     "base_uri": "https://localhost:8080/",
     "height": 53
    },
    "colab_type": "code",
    "id": "IsghDoYjHLuk",
    "outputId": "436cc492-9245-4b45-effa-8654399d5fb9"
   },
   "outputs": [
    {
     "name": "stdout",
     "output_type": "stream",
     "text": [
      "{'cat': 7, 'domestic': 11, 'species': 31, 'domesticated': 12, 'often': 24, 'feral': 14, 'human': 17, 'cats': 8, 'humans': 18, 'breeds': 6, 'body': 4, 'prey': 29, 'like': 20, 'social': 30, 'female': 13, 'two': 33, 'known': 19, 'pet': 27, 'pets': 28, 'first': 15, 'also': 0, 'may': 23, 'years': 36, 'animals': 1, 'behavior': 3, 'main': 21, 'article': 2, 'one': 25, 'many': 22, 'study': 32, 'health': 16, 'dog': 9, 'breed': 5, 'people': 26, 'dogs': 10, 'wolf': 34, 'wolves': 35}\n"
     ]
    }
   ],
   "source": [
    "print(vectorizer.vocabulary_)"
   ]
  },
  {
   "cell_type": "code",
   "execution_count": 176,
   "metadata": {
    "colab": {
     "base_uri": "https://localhost:8080/",
     "height": 33
    },
    "colab_type": "code",
    "id": "3h7Tkm3QHOZx",
    "outputId": "2ed8f177-6ace-4104-95c6-03e023fd6614"
   },
   "outputs": [
    {
     "data": {
      "text/plain": [
       "scipy.sparse.csr.csr_matrix"
      ]
     },
     "execution_count": 176,
     "metadata": {
      "tags": []
     },
     "output_type": "execute_result"
    }
   ],
   "source": [
    "type(vector)"
   ]
  },
  {
   "cell_type": "code",
   "execution_count": 177,
   "metadata": {
    "colab": {
     "base_uri": "https://localhost:8080/",
     "height": 50
    },
    "colab_type": "code",
    "id": "JYX0f7wWPqFK",
    "outputId": "c6a34daa-cbc3-45e9-a4b0-dfce6a4851eb"
   },
   "outputs": [
    {
     "name": "stdout",
     "output_type": "stream",
     "text": [
      "Train dataset shape: (232, 37), \n",
      "Test dataset shape: (58, 37)\n"
     ]
    }
   ],
   "source": [
    "from sklearn.model_selection import train_test_split\n",
    "\n",
    "# Split data to target (y) and features (X)\n",
    "X = vector.toarray()\n",
    "y = (np.array(data['label']))\n",
    "\n",
    "# Here we split data to training and testing parts\n",
    "X_train , X_test, y_train, y_test = train_test_split(X,y,test_size=0.2, random_state= 0, stratify =y)\n",
    "print(\"Train dataset shape: {0}, \\nTest dataset shape: {1}\".format(X_train.shape, X_test.shape))"
   ]
  },
  {
   "cell_type": "code",
   "execution_count": 178,
   "metadata": {
    "colab": {
     "base_uri": "https://localhost:8080/",
     "height": 33
    },
    "colab_type": "code",
    "id": "In9jxezzPr_y",
    "outputId": "1b8dc7a5-d632-49f0-e7de-627091de5e26"
   },
   "outputs": [
    {
     "data": {
      "text/plain": [
       "numpy.ndarray"
      ]
     },
     "execution_count": 178,
     "metadata": {
      "tags": []
     },
     "output_type": "execute_result"
    }
   ],
   "source": [
    "#CNN accepst data in 3D\n",
    "# reshape the data.\n",
    "X_train= X_train.reshape(232,37,1)\n",
    "X_test = X_test.reshape(58,37,1)\n",
    "type(X_train)"
   ]
  },
  {
   "cell_type": "code",
   "execution_count": 0,
   "metadata": {
    "colab": {},
    "colab_type": "code",
    "id": "9_l9r_zGQAQw"
   },
   "outputs": [],
   "source": [
    "epochs = 50\n",
    "model = Sequential()\n",
    "model.add(Conv1D(filters=32,kernel_size=2, activation='relu', input_shape = (37,1)))\n",
    "model.add(BatchNormalization())\n",
    "model.add(Dropout(0.2))\n",
    "\n",
    "model.add(Conv1D(filters=64,kernel_size=2, activation='relu'))\n",
    "model.add(BatchNormalization())\n",
    "model.add(Dropout(0.5))\n",
    "\n",
    "model.add(Flatten())\n",
    "model.add(Dense(64,activation='relu'))\n",
    "model.add(Dropout(0.5))\n",
    "\n",
    "model.add(Dense(1,activation='sigmoid'))\n"
   ]
  },
  {
   "cell_type": "code",
   "execution_count": 180,
   "metadata": {
    "colab": {
     "base_uri": "https://localhost:8080/",
     "height": 483
    },
    "colab_type": "code",
    "id": "WId2BqXRQFAj",
    "outputId": "d581a379-b5c5-4ab7-ea08-6da8e83b4b8a"
   },
   "outputs": [
    {
     "name": "stdout",
     "output_type": "stream",
     "text": [
      "Model: \"sequential_7\"\n",
      "_________________________________________________________________\n",
      "Layer (type)                 Output Shape              Param #   \n",
      "=================================================================\n",
      "conv1d_14 (Conv1D)           (None, 36, 32)            96        \n",
      "_________________________________________________________________\n",
      "batch_normalization_14 (Batc (None, 36, 32)            128       \n",
      "_________________________________________________________________\n",
      "dropout_21 (Dropout)         (None, 36, 32)            0         \n",
      "_________________________________________________________________\n",
      "conv1d_15 (Conv1D)           (None, 35, 64)            4160      \n",
      "_________________________________________________________________\n",
      "batch_normalization_15 (Batc (None, 35, 64)            256       \n",
      "_________________________________________________________________\n",
      "dropout_22 (Dropout)         (None, 35, 64)            0         \n",
      "_________________________________________________________________\n",
      "flatten_7 (Flatten)          (None, 2240)              0         \n",
      "_________________________________________________________________\n",
      "dense_14 (Dense)             (None, 64)                143424    \n",
      "_________________________________________________________________\n",
      "dropout_23 (Dropout)         (None, 64)                0         \n",
      "_________________________________________________________________\n",
      "dense_15 (Dense)             (None, 1)                 65        \n",
      "=================================================================\n",
      "Total params: 148,129\n",
      "Trainable params: 147,937\n",
      "Non-trainable params: 192\n",
      "_________________________________________________________________\n"
     ]
    }
   ],
   "source": [
    "model.summary()"
   ]
  },
  {
   "cell_type": "code",
   "execution_count": 0,
   "metadata": {
    "colab": {},
    "colab_type": "code",
    "id": "dyMXBHbRQGpp"
   },
   "outputs": [],
   "source": [
    "model.compile(optimizer=Adam(lr=0.00005),loss='binary_crossentropy',metrics=['accuracy'])"
   ]
  },
  {
   "cell_type": "code",
   "execution_count": 182,
   "metadata": {
    "colab": {
     "base_uri": "https://localhost:8080/",
     "height": 1000
    },
    "colab_type": "code",
    "id": "1wCsbuAJQI8u",
    "outputId": "6a7b66f7-0746-4abb-812e-bc307afcac53"
   },
   "outputs": [
    {
     "name": "stdout",
     "output_type": "stream",
     "text": [
      "Epoch 1/50\n",
      "8/8 [==============================] - 0s 25ms/step - loss: 0.9941 - accuracy: 0.5647 - val_loss: 0.6821 - val_accuracy: 0.5862\n",
      "Epoch 2/50\n",
      "8/8 [==============================] - 0s 13ms/step - loss: 1.0717 - accuracy: 0.5086 - val_loss: 0.6785 - val_accuracy: 0.6034\n",
      "Epoch 3/50\n",
      "8/8 [==============================] - 0s 11ms/step - loss: 0.8451 - accuracy: 0.6078 - val_loss: 0.6737 - val_accuracy: 0.6724\n",
      "Epoch 4/50\n",
      "8/8 [==============================] - 0s 13ms/step - loss: 0.8299 - accuracy: 0.6293 - val_loss: 0.6683 - val_accuracy: 0.6897\n",
      "Epoch 5/50\n",
      "8/8 [==============================] - 0s 12ms/step - loss: 0.7251 - accuracy: 0.6379 - val_loss: 0.6630 - val_accuracy: 0.6897\n",
      "Epoch 6/50\n",
      "8/8 [==============================] - 0s 12ms/step - loss: 0.7169 - accuracy: 0.6379 - val_loss: 0.6573 - val_accuracy: 0.6897\n",
      "Epoch 7/50\n",
      "8/8 [==============================] - 0s 13ms/step - loss: 0.7878 - accuracy: 0.6724 - val_loss: 0.6510 - val_accuracy: 0.7069\n",
      "Epoch 8/50\n",
      "8/8 [==============================] - 0s 13ms/step - loss: 0.6766 - accuracy: 0.6552 - val_loss: 0.6442 - val_accuracy: 0.6897\n",
      "Epoch 9/50\n",
      "8/8 [==============================] - 0s 12ms/step - loss: 0.5880 - accuracy: 0.6983 - val_loss: 0.6374 - val_accuracy: 0.7069\n",
      "Epoch 10/50\n",
      "8/8 [==============================] - 0s 11ms/step - loss: 0.6005 - accuracy: 0.6853 - val_loss: 0.6306 - val_accuracy: 0.7069\n",
      "Epoch 11/50\n",
      "8/8 [==============================] - 0s 12ms/step - loss: 0.5932 - accuracy: 0.7155 - val_loss: 0.6236 - val_accuracy: 0.7069\n",
      "Epoch 12/50\n",
      "8/8 [==============================] - 0s 11ms/step - loss: 0.5124 - accuracy: 0.7198 - val_loss: 0.6164 - val_accuracy: 0.7241\n",
      "Epoch 13/50\n",
      "8/8 [==============================] - 0s 12ms/step - loss: 0.4588 - accuracy: 0.7931 - val_loss: 0.6090 - val_accuracy: 0.7241\n",
      "Epoch 14/50\n",
      "8/8 [==============================] - 0s 12ms/step - loss: 0.4409 - accuracy: 0.7629 - val_loss: 0.6011 - val_accuracy: 0.7414\n",
      "Epoch 15/50\n",
      "8/8 [==============================] - 0s 11ms/step - loss: 0.4639 - accuracy: 0.7672 - val_loss: 0.5934 - val_accuracy: 0.7414\n",
      "Epoch 16/50\n",
      "8/8 [==============================] - 0s 12ms/step - loss: 0.5034 - accuracy: 0.7672 - val_loss: 0.5855 - val_accuracy: 0.7414\n",
      "Epoch 17/50\n",
      "8/8 [==============================] - 0s 11ms/step - loss: 0.4307 - accuracy: 0.7672 - val_loss: 0.5774 - val_accuracy: 0.7414\n",
      "Epoch 18/50\n",
      "8/8 [==============================] - 0s 12ms/step - loss: 0.4251 - accuracy: 0.7328 - val_loss: 0.5693 - val_accuracy: 0.7414\n",
      "Epoch 19/50\n",
      "8/8 [==============================] - 0s 12ms/step - loss: 0.4087 - accuracy: 0.7888 - val_loss: 0.5612 - val_accuracy: 0.7414\n",
      "Epoch 20/50\n",
      "8/8 [==============================] - 0s 11ms/step - loss: 0.4052 - accuracy: 0.7845 - val_loss: 0.5532 - val_accuracy: 0.7414\n",
      "Epoch 21/50\n",
      "8/8 [==============================] - 0s 12ms/step - loss: 0.4943 - accuracy: 0.7457 - val_loss: 0.5450 - val_accuracy: 0.7586\n",
      "Epoch 22/50\n",
      "8/8 [==============================] - 0s 12ms/step - loss: 0.4783 - accuracy: 0.7414 - val_loss: 0.5364 - val_accuracy: 0.7931\n",
      "Epoch 23/50\n",
      "8/8 [==============================] - 0s 11ms/step - loss: 0.4069 - accuracy: 0.7802 - val_loss: 0.5277 - val_accuracy: 0.7931\n",
      "Epoch 24/50\n",
      "8/8 [==============================] - 0s 11ms/step - loss: 0.3335 - accuracy: 0.8319 - val_loss: 0.5193 - val_accuracy: 0.7931\n",
      "Epoch 25/50\n",
      "8/8 [==============================] - 0s 12ms/step - loss: 0.3849 - accuracy: 0.7931 - val_loss: 0.5106 - val_accuracy: 0.7931\n",
      "Epoch 26/50\n",
      "8/8 [==============================] - 0s 11ms/step - loss: 0.4154 - accuracy: 0.7759 - val_loss: 0.5014 - val_accuracy: 0.7931\n",
      "Epoch 27/50\n",
      "8/8 [==============================] - 0s 13ms/step - loss: 0.3691 - accuracy: 0.8147 - val_loss: 0.4921 - val_accuracy: 0.7931\n",
      "Epoch 28/50\n",
      "8/8 [==============================] - 0s 12ms/step - loss: 0.4306 - accuracy: 0.7845 - val_loss: 0.4828 - val_accuracy: 0.8103\n",
      "Epoch 29/50\n",
      "8/8 [==============================] - 0s 11ms/step - loss: 0.3635 - accuracy: 0.8103 - val_loss: 0.4742 - val_accuracy: 0.8103\n",
      "Epoch 30/50\n",
      "8/8 [==============================] - 0s 11ms/step - loss: 0.3619 - accuracy: 0.8017 - val_loss: 0.4657 - val_accuracy: 0.8448\n",
      "Epoch 31/50\n",
      "8/8 [==============================] - 0s 11ms/step - loss: 0.3878 - accuracy: 0.7974 - val_loss: 0.4571 - val_accuracy: 0.8621\n",
      "Epoch 32/50\n",
      "8/8 [==============================] - 0s 11ms/step - loss: 0.3203 - accuracy: 0.8319 - val_loss: 0.4484 - val_accuracy: 0.8621\n",
      "Epoch 33/50\n",
      "8/8 [==============================] - 0s 11ms/step - loss: 0.3318 - accuracy: 0.8190 - val_loss: 0.4401 - val_accuracy: 0.8621\n",
      "Epoch 34/50\n",
      "8/8 [==============================] - 0s 11ms/step - loss: 0.3768 - accuracy: 0.8017 - val_loss: 0.4318 - val_accuracy: 0.8621\n",
      "Epoch 35/50\n",
      "8/8 [==============================] - 0s 11ms/step - loss: 0.3319 - accuracy: 0.8190 - val_loss: 0.4229 - val_accuracy: 0.8621\n",
      "Epoch 36/50\n",
      "8/8 [==============================] - 0s 11ms/step - loss: 0.3590 - accuracy: 0.8319 - val_loss: 0.4142 - val_accuracy: 0.8621\n",
      "Epoch 37/50\n",
      "8/8 [==============================] - 0s 11ms/step - loss: 0.3679 - accuracy: 0.7931 - val_loss: 0.4060 - val_accuracy: 0.8621\n",
      "Epoch 38/50\n",
      "8/8 [==============================] - 0s 12ms/step - loss: 0.3769 - accuracy: 0.7845 - val_loss: 0.3972 - val_accuracy: 0.8621\n",
      "Epoch 39/50\n",
      "8/8 [==============================] - 0s 11ms/step - loss: 0.3637 - accuracy: 0.8448 - val_loss: 0.3888 - val_accuracy: 0.8621\n",
      "Epoch 40/50\n",
      "8/8 [==============================] - 0s 12ms/step - loss: 0.3205 - accuracy: 0.8405 - val_loss: 0.3809 - val_accuracy: 0.8621\n",
      "Epoch 41/50\n",
      "8/8 [==============================] - 0s 12ms/step - loss: 0.3481 - accuracy: 0.8233 - val_loss: 0.3738 - val_accuracy: 0.8621\n",
      "Epoch 42/50\n",
      "8/8 [==============================] - 0s 12ms/step - loss: 0.3806 - accuracy: 0.8017 - val_loss: 0.3670 - val_accuracy: 0.8621\n",
      "Epoch 43/50\n",
      "8/8 [==============================] - 0s 11ms/step - loss: 0.4154 - accuracy: 0.7888 - val_loss: 0.3597 - val_accuracy: 0.8621\n",
      "Epoch 44/50\n",
      "8/8 [==============================] - 0s 12ms/step - loss: 0.2916 - accuracy: 0.8491 - val_loss: 0.3529 - val_accuracy: 0.8621\n",
      "Epoch 45/50\n",
      "8/8 [==============================] - 0s 12ms/step - loss: 0.2989 - accuracy: 0.8362 - val_loss: 0.3468 - val_accuracy: 0.8621\n",
      "Epoch 46/50\n",
      "8/8 [==============================] - 0s 12ms/step - loss: 0.2845 - accuracy: 0.8491 - val_loss: 0.3418 - val_accuracy: 0.8621\n",
      "Epoch 47/50\n",
      "8/8 [==============================] - 0s 12ms/step - loss: 0.3230 - accuracy: 0.8190 - val_loss: 0.3367 - val_accuracy: 0.8621\n",
      "Epoch 48/50\n",
      "8/8 [==============================] - 0s 11ms/step - loss: 0.3317 - accuracy: 0.8491 - val_loss: 0.3316 - val_accuracy: 0.8621\n",
      "Epoch 49/50\n",
      "8/8 [==============================] - 0s 11ms/step - loss: 0.3606 - accuracy: 0.8147 - val_loss: 0.3265 - val_accuracy: 0.8621\n",
      "Epoch 50/50\n",
      "8/8 [==============================] - 0s 10ms/step - loss: 0.3441 - accuracy: 0.8276 - val_loss: 0.3219 - val_accuracy: 0.8621\n"
     ]
    }
   ],
   "source": [
    "history = model.fit(X_train,y_train,epochs=epochs,validation_data=(X_test,y_test),verbose=1)"
   ]
  },
  {
   "cell_type": "code",
   "execution_count": 0,
   "metadata": {
    "colab": {},
    "colab_type": "code",
    "id": "EgFAGPpWQKwx"
   },
   "outputs": [],
   "source": [
    "def plot_learningCurve(history,epoch):\n",
    "  #plot training and validation accuracy values\n",
    "  epoch_range = range(1,epoch+1)\n",
    "  plt.plot(epoch_range, history.history['accuracy'])\n",
    "  plt.plot(epoch_range, history.history['val_accuracy'])\n",
    "  plt.title('Model accracy')\n",
    "  plt.ylabel('Accuracy')\n",
    "  plt.xlabel(\"Epoch\")\n",
    "  plt.legend(['Train','Val'],loc ='upper left')\n",
    "  plt.show()\n",
    "\n",
    "  #plot training & valdiation loss values\n",
    "  plt.plot(epoch_range, history.history['loss'])\n",
    "  plt.plot(epoch_range, history.history['val_loss'])\n",
    "  plt.title('Model loss')\n",
    "  plt.ylabel('Loss')\n",
    "  plt.xlabel(\"Epoch\")\n",
    "  plt.legend(['Train','Val'],loc ='upper left')\n",
    "  plt.show()"
   ]
  },
  {
   "cell_type": "code",
   "execution_count": 184,
   "metadata": {
    "colab": {
     "base_uri": "https://localhost:8080/",
     "height": 573
    },
    "colab_type": "code",
    "id": "drJ23sLOQWt3",
    "outputId": "934c78a0-312d-48aa-cdc6-8a05b0349437"
   },
   "outputs": [
    {
     "data": {
      "image/png": "[encoded data removed]",
      "text/plain": [
       "<Figure size 432x288 with 1 Axes>"
      ]
     },
     "metadata": {
      "needs_background": "light",
      "tags": []
     },
     "output_type": "display_data"
    },
    {
     "data": {
      "image/png": "[encoded data removed]",
      "text/plain": [
       "<Figure size 432x288 with 1 Axes>"
      ]
     },
     "metadata": {
      "needs_background": "light",
      "tags": []
     },
     "output_type": "display_data"
    }
   ],
   "source": [
    "plot_learningCurve(history,epochs)"
   ]
  },
  {
   "cell_type": "code",
   "execution_count": 185,
   "metadata": {
    "colab": {
     "base_uri": "https://localhost:8080/",
     "height": 347
    },
    "colab_type": "code",
    "id": "t32wa1lsTjyI",
    "outputId": "62fb9047-a8d3-4215-ee8d-a0c7df3c9e93"
   },
   "outputs": [
    {
     "data": {
      "text/html": [
       "<div>\n",
       "<style scoped>\n",
       "    .dataframe tbody tr th:only-of-type {\n",
       "        vertical-align: middle;\n",
       "    }\n",
       "\n",
       "    .dataframe tbody tr th {\n",
       "        vertical-align: top;\n",
       "    }\n",
       "\n",
       "    .dataframe thead th {\n",
       "        text-align: right;\n",
       "    }\n",
       "</style>\n",
       "<table border=\"1\" class=\"dataframe\">\n",
       "  <thead>\n",
       "    <tr style=\"text-align: right;\">\n",
       "      <th></th>\n",
       "      <th>content</th>\n",
       "    </tr>\n",
       "  </thead>\n",
       "  <tbody>\n",
       "    <tr>\n",
       "      <th>0</th>\n",
       "      <td>This animal is similar to the other felid spec...</td>\n",
       "    </tr>\n",
       "    <tr>\n",
       "      <th>1</th>\n",
       "      <td>This animal is similar to the wolf and fox.</td>\n",
       "    </tr>\n",
       "    <tr>\n",
       "      <th>2</th>\n",
       "      <td>This animal can detect a drug when hidden.</td>\n",
       "    </tr>\n",
       "    <tr>\n",
       "      <th>3</th>\n",
       "      <td>One type of animal acts as a guard of things.</td>\n",
       "    </tr>\n",
       "    <tr>\n",
       "      <th>4</th>\n",
       "      <td>Whiskers coughed up a hairball today.</td>\n",
       "    </tr>\n",
       "    <tr>\n",
       "      <th>5</th>\n",
       "      <td>This animal can understand a hand signal if pr...</td>\n",
       "    </tr>\n",
       "    <tr>\n",
       "      <th>6</th>\n",
       "      <td>He has a kitten.</td>\n",
       "    </tr>\n",
       "    <tr>\n",
       "      <th>7</th>\n",
       "      <td>This animal will catch a mouse when it seems i...</td>\n",
       "    </tr>\n",
       "    <tr>\n",
       "      <th>8</th>\n",
       "      <td>He carried a python across the street.</td>\n",
       "    </tr>\n",
       "    <tr>\n",
       "      <th>9</th>\n",
       "      <td>Python programming with machine learning has n...</td>\n",
       "    </tr>\n",
       "  </tbody>\n",
       "</table>\n",
       "</div>"
      ],
      "text/plain": [
       "                                             content\n",
       "0  This animal is similar to the other felid spec...\n",
       "1        This animal is similar to the wolf and fox.\n",
       "2         This animal can detect a drug when hidden.\n",
       "3      One type of animal acts as a guard of things.\n",
       "4              Whiskers coughed up a hairball today.\n",
       "5  This animal can understand a hand signal if pr...\n",
       "6                                   He has a kitten.\n",
       "7  This animal will catch a mouse when it seems i...\n",
       "8             He carried a python across the street.\n",
       "9  Python programming with machine learning has n..."
      ]
     },
     "execution_count": 185,
     "metadata": {
      "tags": []
     },
     "output_type": "execute_result"
    }
   ],
   "source": [
    "#for testing  given samples\n",
    "\n",
    "testData = pd.read_csv(\"/content/testSentences.txt\", sep='\\n', header=None)\n",
    "testData.columns = ['content']\n",
    "testData"
   ]
  },
  {
   "cell_type": "code",
   "execution_count": 0,
   "metadata": {
    "colab": {},
    "colab_type": "code",
    "id": "OMa3mcz-bICn"
   },
   "outputs": [],
   "source": [
    "#set stopwords to english\n",
    "stop=set(stopwords.words('english'))\n",
    "\n",
    "\n",
    "#removing the stopwords\n",
    "def remove_stopwords(text, is_lower_case=False):\n",
    "    tokens = tokenizer.tokenize(text)\n",
    "    tokens = [token.strip() for token in tokens]\n",
    "    if is_lower_case:\n",
    "        filtered_tokens = [token for token in tokens if token not in stopword_list]\n",
    "    else:\n",
    "        filtered_tokens = [token for token in tokens if token.lower() not in stopword_list]\n",
    "    filtered_text = ' '.join(filtered_tokens)    \n",
    "    return filtered_text\n",
    "\n",
    "#Apply function on text column\n",
    "testData['content']=testData['content'].apply(remove_stopwords)"
   ]
  },
  {
   "cell_type": "code",
   "execution_count": 187,
   "metadata": {
    "colab": {
     "base_uri": "https://localhost:8080/",
     "height": 383
    },
    "colab_type": "code",
    "id": "Bs1E81HvQYeN",
    "outputId": "e092f110-1a7a-4e10-b325-fd7b659c141a"
   },
   "outputs": [
    {
     "name": "stdout",
     "output_type": "stream",
     "text": [
      "(10, 37)\n",
      "<class 'scipy.sparse.csr.csr_matrix'>\n",
      "[[0 0 1 0 0 0 0 0 0 1 0 0 0 0 0 0 0 0 0 0 0 0 0 0 0 0 0 1 1 0 0 0 0 0 0 0\n",
      "  0]\n",
      " [0 0 1 0 0 0 0 0 0 0 1 0 0 0 0 0 0 0 0 0 0 0 0 0 0 0 0 1 0 0 0 0 0 0 0 0\n",
      "  1]\n",
      " [0 0 1 0 0 0 0 1 1 0 0 0 0 0 1 0 0 0 0 0 0 0 0 0 0 0 0 0 0 0 0 0 0 0 0 0\n",
      "  0]\n",
      " [0 1 1 0 0 0 0 0 0 0 0 1 0 0 0 0 0 0 0 0 0 1 0 0 0 0 0 0 0 0 1 0 0 1 0 0\n",
      "  0]\n",
      " [0 0 0 0 0 0 1 0 0 0 0 0 1 0 0 0 0 0 0 0 0 0 0 0 0 0 0 0 0 0 0 1 0 0 0 1\n",
      "  0]\n",
      " [0 0 1 0 0 0 0 0 0 0 0 0 0 1 0 0 0 0 0 0 0 0 0 1 0 0 1 0 0 0 0 0 1 0 1 0\n",
      "  0]\n",
      " [0 0 0 0 0 0 0 0 0 0 0 0 0 0 0 0 1 0 0 0 0 0 0 0 0 0 0 0 0 0 0 0 0 0 0 0\n",
      "  0]\n",
      " [0 0 1 0 0 1 0 0 0 0 0 0 0 0 0 1 0 0 0 1 0 0 0 0 0 1 0 0 0 0 0 0 0 0 0 0\n",
      "  0]\n",
      " [1 0 0 0 1 0 0 0 0 0 0 0 0 0 0 0 0 0 0 0 0 0 0 0 1 0 0 0 0 1 0 0 0 0 0 0\n",
      "  0]\n",
      " [0 0 0 1 0 0 0 0 0 0 0 0 0 0 0 0 0 1 1 0 1 0 1 0 1 0 0 0 0 0 0 0 0 0 0 0\n",
      "  0]]\n"
     ]
    }
   ],
   "source": [
    "from sklearn.feature_extraction.text import TfidfVectorizer\n",
    "# list of text documents\n",
    "text = testData['content']\n",
    "\n",
    "# create the transform\n",
    "vectorizer = CountVectorizer(min_df=0, max_features=37)\n",
    "# tokenize and build vocab\n",
    "vectorizer.fit(text)\n",
    "# summarize\n",
    "#print(vectorizer.vocabulary_)\n",
    "# encode document\n",
    "highD_vector = vectorizer.transform(text)\n",
    "# summarize encoded vector\n",
    "print(highD_vector.shape)\n",
    "print(type(highD_vector))\n",
    "print(highD_vector.toarray())\n",
    "highD_vector =highD_vector.toarray()"
   ]
  },
  {
   "cell_type": "code",
   "execution_count": 188,
   "metadata": {
    "colab": {
     "base_uri": "https://localhost:8080/",
     "height": 33
    },
    "colab_type": "code",
    "id": "ZIpNXE14SmKa",
    "outputId": "480a4779-cf46-4674-a5b0-f428a58e8de7"
   },
   "outputs": [
    {
     "data": {
      "text/plain": [
       "(10, 37)"
      ]
     },
     "execution_count": 188,
     "metadata": {
      "tags": []
     },
     "output_type": "execute_result"
    }
   ],
   "source": [
    "highD_vector.shape"
   ]
  },
  {
   "cell_type": "code",
   "execution_count": 0,
   "metadata": {
    "colab": {},
    "colab_type": "code",
    "id": "-4CMIayGXKDY"
   },
   "outputs": [],
   "source": [
    "import numpy as np \n",
    "\n",
    "flatten=highD_vector.flatten()\n",
    "input_array = flatten.reshape([10, 37,1])\n"
   ]
  },
  {
   "cell_type": "code",
   "execution_count": 190,
   "metadata": {
    "colab": {
     "base_uri": "https://localhost:8080/",
     "height": 183
    },
    "colab_type": "code",
    "id": "RPuXfFwFYXfu",
    "outputId": "4a708c04-c1e5-4253-b511-db3ac2f230c1"
   },
   "outputs": [
    {
     "name": "stdout",
     "output_type": "stream",
     "text": [
      "[0.83267546]Dog\n",
      "[0.8564848]Dog\n",
      "[0.17554471]cat\n",
      "[0.5843016]Dog\n",
      "[0.6556908]Dog\n",
      "[0.6569063]Dog\n",
      "[0.5942156]Dog\n",
      "[0.47187203]cat\n",
      "[0.37833437]cat\n",
      "[0.3591253]cat\n"
     ]
    }
   ],
   "source": [
    "prediction = model.predict(input_array)\n",
    "probability =prediction\n",
    "\n",
    "for i in range(10):\n",
    "  output =probability[i]\n",
    "  print(output, sep='', end='')\n",
    "  print(\"Dog\") if output > 0.5 else print(\"cat\")\n",
    "\n",
    "\n",
    "\n",
    "# Save model\n",
    "#model.save('classification_model.h5')"
   ]
  },
  {
   "cell_type": "code",
   "execution_count": 0,
   "metadata": {
    "colab": {},
    "colab_type": "code",
    "id": "rPE9kV8ebo6a"
   },
   "outputs": [],
   "source": []
  }
 ],
 "metadata": {
  "accelerator": "TPU",
  "colab": {
   "collapsed_sections": [],
   "name": "with_wordCounts_CNN.ipynb",
   "provenance": []
  },
  "kernelspec": {
   "display_name": "Python 3",
   "language": "python",
   "name": "python3"
  },
  "language_info": {
   "codemirror_mode": {
    "name": "ipython",
    "version": 3
   },
   "file_extension": ".py",
   "mimetype": "text/x-python",
   "name": "python",
   "nbconvert_exporter": "python",
   "pygments_lexer": "ipython3",
   "version": "3.7.6"
  }
 },
 "nbformat": 4,
 "nbformat_minor": 1
}
