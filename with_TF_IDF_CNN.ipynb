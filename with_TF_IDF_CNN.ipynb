{
 "cells": [
  {
   "cell_type": "code",
   "execution_count": 0,
   "metadata": {
    "colab": {},
    "colab_type": "code",
    "id": "ZvyqlP7AM23F"
   },
   "outputs": [],
   "source": [
    "import nltk\n",
    "nltk.download('all')"
   ]
  },
  {
   "cell_type": "code",
   "execution_count": 2,
   "metadata": {
    "colab": {
     "base_uri": "https://localhost:8080/",
     "height": 33
    },
    "colab_type": "code",
    "id": "qb5iLxxOhe_G",
    "outputId": "a03ef76c-55eb-4df1-fe09-aa953b9a37d9"
   },
   "outputs": [
    {
     "name": "stdout",
     "output_type": "stream",
     "text": [
      "2.2.0\n"
     ]
    }
   ],
   "source": [
    "import tensorflow as tf\n",
    "from tensorflow import keras\n",
    "from tensorflow.keras import Sequential\n",
    "from tensorflow.keras.layers import Flatten,Dense, Dropout, BatchNormalization\n",
    "from tensorflow.keras.layers import Conv1D,MaxPool1D\n",
    "from tensorflow.keras.preprocessing.image import ImageDataGenerator\n",
    "\n",
    "from tensorflow.keras.optimizers import Adam\n",
    "\n",
    "import re,string,unicodedata\n",
    "from bs4 import BeautifulSoup\n",
    "from sklearn.preprocessing import LabelBinarizer\n",
    "\n",
    "from nltk.corpus import stopwords\n",
    "from nltk.stem.porter import PorterStemmer\n",
    "from wordcloud import WordCloud,STOPWORDS\n",
    "from nltk.stem import WordNetLemmatizer\n",
    "from nltk.tokenize import word_tokenize,sent_tokenize\n",
    "import re,string,unicodedata\n",
    "from nltk.tokenize.toktok import ToktokTokenizer\n",
    "from nltk.stem import LancasterStemmer,WordNetLemmatizer\n",
    "\n",
    "print(tf.__version__)"
   ]
  },
  {
   "cell_type": "code",
   "execution_count": 3,
   "metadata": {
    "colab": {
     "base_uri": "https://localhost:8080/",
     "height": 70
    },
    "colab_type": "code",
    "id": "GOd6ZOkThni0",
    "outputId": "2796d43c-6eb0-4f36-bca2-a891b7e95f07"
   },
   "outputs": [
    {
     "name": "stderr",
     "output_type": "stream",
     "text": [
      "/usr/local/lib/python3.6/dist-packages/statsmodels/tools/_testing.py:19: FutureWarning: pandas.util.testing is deprecated. Use the functions in the public API at pandas.testing instead.\n",
      "  import pandas.util.testing as tm\n"
     ]
    }
   ],
   "source": [
    "import pandas as pd\n",
    "import numpy as np\n",
    "import seaborn as sns\n",
    "import matplotlib.pyplot as plt"
   ]
  },
  {
   "cell_type": "code",
   "execution_count": 0,
   "metadata": {
    "colab": {},
    "colab_type": "code",
    "id": "mfxDkDAlhqta"
   },
   "outputs": [],
   "source": [
    "catWiki = pd.read_csv(\"/content/catWiki.txt\", sep='\\n', header=None)\n",
    "dogWiki = pd.read_csv(\"/content/dogWiki.txt\", sep='\\n', header=None)\n",
    "\n",
    "catWiki.columns = ['text']\n",
    "dogWiki.columns = ['text']"
   ]
  },
  {
   "cell_type": "code",
   "execution_count": 6,
   "metadata": {
    "colab": {
     "base_uri": "https://localhost:8080/",
     "height": 197
    },
    "colab_type": "code",
    "id": "c4dD_NmriSUz",
    "outputId": "4e33b217-fba9-423a-f600-80fa900c4db0"
   },
   "outputs": [
    {
     "data": {
      "text/html": [
       "<div>\n",
       "<style scoped>\n",
       "    .dataframe tbody tr th:only-of-type {\n",
       "        vertical-align: middle;\n",
       "    }\n",
       "\n",
       "    .dataframe tbody tr th {\n",
       "        vertical-align: top;\n",
       "    }\n",
       "\n",
       "    .dataframe thead th {\n",
       "        text-align: right;\n",
       "    }\n",
       "</style>\n",
       "<table border=\"1\" class=\"dataframe\">\n",
       "  <thead>\n",
       "    <tr style=\"text-align: right;\">\n",
       "      <th></th>\n",
       "      <th>text</th>\n",
       "      <th>class</th>\n",
       "    </tr>\n",
       "  </thead>\n",
       "  <tbody>\n",
       "    <tr>\n",
       "      <th>0</th>\n",
       "      <td>The cat (Felis catus) is a domestic species of...</td>\n",
       "      <td>cat</td>\n",
       "    </tr>\n",
       "    <tr>\n",
       "      <th>1</th>\n",
       "      <td>The cat is similar in anatomy to the other fel...</td>\n",
       "      <td>cat</td>\n",
       "    </tr>\n",
       "    <tr>\n",
       "      <th>2</th>\n",
       "      <td>Female domestic cats can have kittens from spr...</td>\n",
       "      <td>cat</td>\n",
       "    </tr>\n",
       "    <tr>\n",
       "      <th>3</th>\n",
       "      <td>Cats were first domesticated in the Near East ...</td>\n",
       "      <td>cat</td>\n",
       "    </tr>\n",
       "    <tr>\n",
       "      <th>4</th>\n",
       "      <td>As of 2017, the domestic cat was the second-mo...</td>\n",
       "      <td>cat</td>\n",
       "    </tr>\n",
       "  </tbody>\n",
       "</table>\n",
       "</div>"
      ],
      "text/plain": [
       "                                                text class\n",
       "0  The cat (Felis catus) is a domestic species of...   cat\n",
       "1  The cat is similar in anatomy to the other fel...   cat\n",
       "2  Female domestic cats can have kittens from spr...   cat\n",
       "3  Cats were first domesticated in the Near East ...   cat\n",
       "4  As of 2017, the domestic cat was the second-mo...   cat"
      ]
     },
     "execution_count": 6,
     "metadata": {
      "tags": []
     },
     "output_type": "execute_result"
    }
   ],
   "source": [
    "catWiki['class'] = 'cat'\n",
    "dogWiki['class'] = 'dog'\n",
    "data = catWiki\n",
    "data = data.append(dogWiki)\n",
    "data.head()"
   ]
  },
  {
   "cell_type": "code",
   "execution_count": 7,
   "metadata": {
    "colab": {
     "base_uri": "https://localhost:8080/",
     "height": 33
    },
    "colab_type": "code",
    "id": "HFckbv28jEAH",
    "outputId": "26f02bd9-4f57-426e-e865-5d23ee4c055e"
   },
   "outputs": [
    {
     "data": {
      "text/plain": [
       "Index(['text', 'class'], dtype='object')"
      ]
     },
     "execution_count": 7,
     "metadata": {
      "tags": []
     },
     "output_type": "execute_result"
    }
   ],
   "source": [
    "data.columns"
   ]
  },
  {
   "cell_type": "code",
   "execution_count": 0,
   "metadata": {
    "colab": {},
    "colab_type": "code",
    "id": "ZDHRzIHvKZuM"
   },
   "outputs": [],
   "source": [
    "#Tokenization of text\n",
    "tokenizer=ToktokTokenizer()\n",
    "#Setting English stopwords\n",
    "stopword_list=nltk.corpus.stopwords.words('english')"
   ]
  },
  {
   "cell_type": "code",
   "execution_count": 0,
   "metadata": {
    "colab": {},
    "colab_type": "code",
    "id": "tCGE9F9LCIaf"
   },
   "outputs": [],
   "source": [
    "#Removing the html strips\n",
    "def strip_html(text):\n",
    "    soup = BeautifulSoup(text, \"html.parser\")\n",
    "    return soup.get_text()\n",
    "\n",
    "#Removing the square brackets\n",
    "def remove_between_square_brackets(text):\n",
    "    return re.sub('\\[[^]]*\\]', '', text)\n",
    "\n",
    "#Removing the noisy text\n",
    "def denoise_text(text):\n",
    "    text = strip_html(text)\n",
    "    text = remove_between_square_brackets(text)\n",
    "    return text\n",
    "\n",
    "#Apply function on text column\n",
    "data['text']=data['text'].apply(denoise_text)"
   ]
  },
  {
   "cell_type": "code",
   "execution_count": 0,
   "metadata": {
    "colab": {},
    "colab_type": "code",
    "id": "bMOTbwaJD9yT"
   },
   "outputs": [],
   "source": [
    "#Define function for removing special characters\n",
    "def remove_special_characters(text, remove_digits=True):\n",
    "    pattern=r'[^a-zA-z0-9\\s]'\n",
    "    text=re.sub(pattern,'',text)\n",
    "    return text\n",
    "\n",
    "#Apply function on text column\n",
    "data['text']=data['text'].apply(denoise_text)"
   ]
  },
  {
   "cell_type": "code",
   "execution_count": 11,
   "metadata": {
    "colab": {
     "base_uri": "https://localhost:8080/",
     "height": 53
    },
    "colab_type": "code",
    "id": "MVO4_3NsLU6X",
    "outputId": "06914e63-2fd8-46b7-9d6c-e0387da9601e"
   },
   "outputs": [
    {
     "name": "stdout",
     "output_type": "stream",
     "text": [
      "{'been', 'where', \"won't\", 'her', 'what', 'same', \"wasn't\", 'how', 'such', 'the', 'up', \"wouldn't\", 'have', \"haven't\", 'this', \"that'll\", 'you', \"don't\", 'she', 'myself', 'my', 'few', \"should've\", 'wasn', 'over', 'own', 'those', 'hadn', 'o', 'herself', 'not', \"shouldn't\", 'shouldn', 'above', 'ain', 'hasn', 'then', 'nor', 'after', 'is', 'some', 'of', 'its', 'themselves', 'me', 'are', 'yourselves', 'both', 'should', 'theirs', \"it's\", 'too', 'now', 'himself', \"she's\", 'aren', \"couldn't\", 'by', 'if', 'in', 'but', 'was', \"shan't\", 'shan', 'our', 'an', \"you've\", 'all', 'only', 's', 'has', 'wouldn', 'd', 'any', 'while', 'doesn', 'itself', \"mustn't\", 'didn', 'needn', 'very', 'these', 'your', 'we', 'before', 'be', 'm', 'who', 't', 'when', 'once', 'their', 'isn', 'through', \"hadn't\", 'it', 'between', 'do', \"mightn't\", 'doing', 'they', 'to', 'ma', 've', 'no', 'ours', 'that', 'y', 'under', 'other', 'mightn', 'am', \"aren't\", 'mustn', 'having', 'did', 'a', 'can', 'whom', 'again', 'he', \"you'd\", 'or', \"doesn't\", 'were', \"didn't\", 'so', 'his', 'further', 'more', \"hasn't\", 'won', 'with', 'into', 'on', 'why', 'them', 'and', 'i', 'most', 'from', 'just', 'does', 'ourselves', 'being', 'as', 'him', 'yourself', 'll', 'for', \"you're\", 're', 'weren', 'because', 'don', 'haven', 'off', 'here', 'there', 'will', \"isn't\", 'below', 'out', 'yours', 'hers', \"needn't\", 'down', 'than', \"weren't\", 'at', 'couldn', 'about', 'which', 'until', 'against', 'had', \"you'll\", 'during', 'each'}\n"
     ]
    }
   ],
   "source": [
    "#set stopwords to english\n",
    "stop=set(stopwords.words('english'))\n",
    "print(stop)\n",
    "\n",
    "#removing the stopwords\n",
    "def remove_stopwords(text, is_lower_case=False):\n",
    "    tokens = tokenizer.tokenize(text)\n",
    "    tokens = [token.strip() for token in tokens]\n",
    "    if is_lower_case:\n",
    "        filtered_tokens = [token for token in tokens if token not in stopword_list]\n",
    "    else:\n",
    "        filtered_tokens = [token for token in tokens if token.lower() not in stopword_list]\n",
    "    filtered_text = ' '.join(filtered_tokens)    \n",
    "    return filtered_text\n",
    "\n",
    "\n",
    "#Apply function on text column\n",
    "data['text']=data['text'].apply(remove_stopwords)"
   ]
  },
  {
   "cell_type": "code",
   "execution_count": 12,
   "metadata": {
    "colab": {
     "base_uri": "https://localhost:8080/",
     "height": 33
    },
    "colab_type": "code",
    "id": "230NabUXEJ6v",
    "outputId": "bc1e3ebc-0dc1-4b33-f82c-77c8fb007bbd"
   },
   "outputs": [
    {
     "name": "stdout",
     "output_type": "stream",
     "text": [
      "(290, 1)\n"
     ]
    }
   ],
   "source": [
    "from sklearn.preprocessing import LabelBinarizer\n",
    "#labeling the data\n",
    "lb=LabelBinarizer()\n",
    "#transformed Label data\n",
    "label_data=lb.fit_transform(data['class'])\n",
    "#label_data\n",
    "print(label_data.shape)\n",
    "\n",
    "# labeling convert the classes as cat as \"0\" and Dog as \"1\""
   ]
  },
  {
   "cell_type": "code",
   "execution_count": 14,
   "metadata": {
    "colab": {
     "base_uri": "https://localhost:8080/",
     "height": 197
    },
    "colab_type": "code",
    "id": "L6fRWGSpEd2J",
    "outputId": "9d2f6f56-e673-48ca-b853-1946484c21d7"
   },
   "outputs": [
    {
     "data": {
      "text/html": [
       "<div>\n",
       "<style scoped>\n",
       "    .dataframe tbody tr th:only-of-type {\n",
       "        vertical-align: middle;\n",
       "    }\n",
       "\n",
       "    .dataframe tbody tr th {\n",
       "        vertical-align: top;\n",
       "    }\n",
       "\n",
       "    .dataframe thead th {\n",
       "        text-align: right;\n",
       "    }\n",
       "</style>\n",
       "<table border=\"1\" class=\"dataframe\">\n",
       "  <thead>\n",
       "    <tr style=\"text-align: right;\">\n",
       "      <th></th>\n",
       "      <th>text</th>\n",
       "      <th>class</th>\n",
       "    </tr>\n",
       "  </thead>\n",
       "  <tbody>\n",
       "    <tr>\n",
       "      <th>0</th>\n",
       "      <td>cat ( Felis catus ) domestic species small car...</td>\n",
       "      <td>cat</td>\n",
       "    </tr>\n",
       "    <tr>\n",
       "      <th>1</th>\n",
       "      <td>cat similar anatomy felid species : strong fle...</td>\n",
       "      <td>cat</td>\n",
       "    </tr>\n",
       "    <tr>\n",
       "      <th>2</th>\n",
       "      <td>Female domestic cats kittens spring late autum...</td>\n",
       "      <td>cat</td>\n",
       "    </tr>\n",
       "    <tr>\n",
       "      <th>3</th>\n",
       "      <td>Cats first domesticated Near East around 7500 ...</td>\n",
       "      <td>cat</td>\n",
       "    </tr>\n",
       "    <tr>\n",
       "      <th>4</th>\n",
       "      <td>2017 , domestic cat second-most popular pet Un...</td>\n",
       "      <td>cat</td>\n",
       "    </tr>\n",
       "  </tbody>\n",
       "</table>\n",
       "</div>"
      ],
      "text/plain": [
       "                                                text class\n",
       "0  cat ( Felis catus ) domestic species small car...   cat\n",
       "1  cat similar anatomy felid species : strong fle...   cat\n",
       "2  Female domestic cats kittens spring late autum...   cat\n",
       "3  Cats first domesticated Near East around 7500 ...   cat\n",
       "4  2017 , domestic cat second-most popular pet Un...   cat"
      ]
     },
     "execution_count": 14,
     "metadata": {
      "tags": []
     },
     "output_type": "execute_result"
    }
   ],
   "source": [
    "data.head()"
   ]
  },
  {
   "cell_type": "code",
   "execution_count": 0,
   "metadata": {
    "colab": {},
    "colab_type": "code",
    "id": "mm8QHFlnEwpa"
   },
   "outputs": [],
   "source": [
    "data['label'] = label_data"
   ]
  },
  {
   "cell_type": "code",
   "execution_count": 16,
   "metadata": {
    "colab": {
     "base_uri": "https://localhost:8080/",
     "height": 197
    },
    "colab_type": "code",
    "id": "Ud0WpAItFQ8B",
    "outputId": "e1750871-63e9-40a5-cdc2-9a719ad63db8"
   },
   "outputs": [
    {
     "data": {
      "text/html": [
       "<div>\n",
       "<style scoped>\n",
       "    .dataframe tbody tr th:only-of-type {\n",
       "        vertical-align: middle;\n",
       "    }\n",
       "\n",
       "    .dataframe tbody tr th {\n",
       "        vertical-align: top;\n",
       "    }\n",
       "\n",
       "    .dataframe thead th {\n",
       "        text-align: right;\n",
       "    }\n",
       "</style>\n",
       "<table border=\"1\" class=\"dataframe\">\n",
       "  <thead>\n",
       "    <tr style=\"text-align: right;\">\n",
       "      <th></th>\n",
       "      <th>text</th>\n",
       "      <th>class</th>\n",
       "      <th>label</th>\n",
       "    </tr>\n",
       "  </thead>\n",
       "  <tbody>\n",
       "    <tr>\n",
       "      <th>166</th>\n",
       "      <td>Art</td>\n",
       "      <td>dog</td>\n",
       "      <td>1</td>\n",
       "    </tr>\n",
       "    <tr>\n",
       "      <th>167</th>\n",
       "      <td>Main article : Cultural depictions dogs Wester...</td>\n",
       "      <td>dog</td>\n",
       "      <td>1</td>\n",
       "    </tr>\n",
       "    <tr>\n",
       "      <th>168</th>\n",
       "      <td>Cultural depictions dogs art extend back thous...</td>\n",
       "      <td>dog</td>\n",
       "      <td>1</td>\n",
       "    </tr>\n",
       "    <tr>\n",
       "      <th>169</th>\n",
       "      <td>Education appreciation</td>\n",
       "      <td>dog</td>\n",
       "      <td>1</td>\n",
       "    </tr>\n",
       "    <tr>\n",
       "      <th>170</th>\n",
       "      <td>American Kennel Club reopened museum called \" ...</td>\n",
       "      <td>dog</td>\n",
       "      <td>1</td>\n",
       "    </tr>\n",
       "  </tbody>\n",
       "</table>\n",
       "</div>"
      ],
      "text/plain": [
       "                                                  text class  label\n",
       "166                                                Art   dog      1\n",
       "167  Main article : Cultural depictions dogs Wester...   dog      1\n",
       "168  Cultural depictions dogs art extend back thous...   dog      1\n",
       "169                             Education appreciation   dog      1\n",
       "170  American Kennel Club reopened museum called \" ...   dog      1"
      ]
     },
     "execution_count": 16,
     "metadata": {
      "tags": []
     },
     "output_type": "execute_result"
    }
   ],
   "source": [
    "data.tail()"
   ]
  },
  {
   "cell_type": "markdown",
   "metadata": {
    "colab_type": "text",
    "id": "o0tacvy2F6-9"
   },
   "source": [
    "# **#Word Frequencies with TfidfVectorizer**\n",
    "\n",
    "Word counts are a good starting point, but are very basic.\n",
    "\n",
    "One issue with simple counts is that some words like “the” will appear many times and their large counts will not be very meaningful in the encoded vectors.\n",
    "\n",
    "An alternative is to calculate word frequencies, and by far the most popular method is called TF-IDF. This is an acronym than stands for “Term Frequency – Inverse Document” Frequency which are the components of the resulting scores assigned to each word.\n",
    "\n",
    "**Term Frequency:** This summarizes how often a given word appears within a document.\n",
    "\n",
    "**Inverse Document Frequency:** This downscales words that appear a lot across documents.\n",
    "\n",
    "The **TfidfVectorizer** will tokenize documents, learn the vocabulary and inverse document frequency weightings, and allow you to encode new documents.\n",
    "\n",
    "\n"
   ]
  },
  {
   "cell_type": "markdown",
   "metadata": {
    "colab_type": "text",
    "id": "qFsG_VcnG54d"
   },
   "source": [
    "**Feature Engineering**"
   ]
  },
  {
   "cell_type": "code",
   "execution_count": 17,
   "metadata": {
    "colab": {
     "base_uri": "https://localhost:8080/",
     "height": 150
    },
    "colab_type": "code",
    "id": "QofIuPsTGoOt",
    "outputId": "ed3e391e-1522-4654-c750-a0e84ce254a8"
   },
   "outputs": [
    {
     "name": "stdout",
     "output_type": "stream",
     "text": [
      "(290, 37)\n",
      "[[0.         0.         0.         ... 0.         0.         0.        ]\n",
      " [0.         0.         0.         ... 0.         0.         0.        ]\n",
      " [0.         0.         0.         ... 0.         0.         0.        ]\n",
      " ...\n",
      " [0.         0.         0.         ... 0.         0.         0.34439175]\n",
      " [0.         0.         0.         ... 0.         0.         0.        ]\n",
      " [0.         0.         0.         ... 0.         0.         0.        ]]\n"
     ]
    }
   ],
   "source": [
    "\"\"\"\n",
    "Feature Engineering\n",
    "Next, we will take the preprocessed texts as input and calculate their TF-IDF's. We will retain 10 features per text.\n",
    "\n",
    "\"\"\"\n",
    "\n",
    "from sklearn.feature_extraction.text import TfidfVectorizer\n",
    "# list of text documents\n",
    "text = data['text']\n",
    "# create the transform\n",
    "vectorizer = TfidfVectorizer(min_df=5, max_features=37)\n",
    "# tokenize and build vocab\n",
    "vectorizer.fit(text)\n",
    "# summarize\n",
    "#print(vectorizer.vocabulary_)\n",
    "#print(vectorizer.idf_)\n",
    "# encode document\n",
    "vector = vectorizer.transform(text)\n",
    "# summarize encoded vector\n",
    "print(vector.shape)\n",
    "print(vector.toarray())"
   ]
  },
  {
   "cell_type": "code",
   "execution_count": 18,
   "metadata": {
    "colab": {
     "base_uri": "https://localhost:8080/",
     "height": 53
    },
    "colab_type": "code",
    "id": "IsghDoYjHLuk",
    "outputId": "f07ebd78-327c-4d26-a9ac-18589dde0e9f"
   },
   "outputs": [
    {
     "name": "stdout",
     "output_type": "stream",
     "text": [
      "{'cat': 7, 'domestic': 11, 'species': 31, 'domesticated': 12, 'often': 24, 'feral': 14, 'human': 17, 'cats': 8, 'humans': 18, 'breeds': 6, 'body': 4, 'prey': 29, 'like': 20, 'social': 30, 'female': 13, 'two': 33, 'known': 19, 'pet': 27, 'pets': 28, 'first': 15, 'also': 0, 'may': 23, 'years': 36, 'animals': 1, 'behavior': 3, 'main': 21, 'article': 2, 'one': 25, 'many': 22, 'study': 32, 'health': 16, 'dog': 9, 'breed': 5, 'people': 26, 'dogs': 10, 'wolf': 34, 'wolves': 35}\n"
     ]
    }
   ],
   "source": [
    "print(vectorizer.vocabulary_)"
   ]
  },
  {
   "cell_type": "code",
   "execution_count": 19,
   "metadata": {
    "colab": {
     "base_uri": "https://localhost:8080/",
     "height": 33
    },
    "colab_type": "code",
    "id": "3h7Tkm3QHOZx",
    "outputId": "ac9d60c2-179a-4c93-f801-eee05e98b417"
   },
   "outputs": [
    {
     "data": {
      "text/plain": [
       "scipy.sparse.csr.csr_matrix"
      ]
     },
     "execution_count": 19,
     "metadata": {
      "tags": []
     },
     "output_type": "execute_result"
    }
   ],
   "source": [
    "type(vector)"
   ]
  },
  {
   "cell_type": "code",
   "execution_count": 20,
   "metadata": {
    "colab": {
     "base_uri": "https://localhost:8080/",
     "height": 50
    },
    "colab_type": "code",
    "id": "JYX0f7wWPqFK",
    "outputId": "6e33b3e4-5791-4d15-c6ae-eb0383c22cd5"
   },
   "outputs": [
    {
     "name": "stdout",
     "output_type": "stream",
     "text": [
      "Train dataset shape: (232, 37), \n",
      "Test dataset shape: (58, 37)\n"
     ]
    }
   ],
   "source": [
    "from sklearn.model_selection import train_test_split\n",
    "\n",
    "# Split data to target (y) and features (X)\n",
    "X = vector.toarray()\n",
    "y = (np.array(data['label']))\n",
    "\n",
    "# Here we split data to training and testing parts\n",
    "X_train , X_test, y_train, y_test = train_test_split(X,y,test_size=0.2, random_state= 0, stratify =y)\n",
    "print(\"Train dataset shape: {0}, \\nTest dataset shape: {1}\".format(X_train.shape, X_test.shape))"
   ]
  },
  {
   "cell_type": "code",
   "execution_count": 0,
   "metadata": {
    "colab": {},
    "colab_type": "code",
    "id": "In9jxezzPr_y"
   },
   "outputs": [],
   "source": [
    "#CNN accepst data in 3D\n",
    "# we have to reshape teh data.\n",
    "X_train= X_train.reshape(232,37,1)\n",
    "X_test = X_test.reshape(58,37,1)"
   ]
  },
  {
   "cell_type": "code",
   "execution_count": 0,
   "metadata": {
    "colab": {},
    "colab_type": "code",
    "id": "9_l9r_zGQAQw"
   },
   "outputs": [],
   "source": [
    "epochs = 60\n",
    "model = Sequential()\n",
    "model.add(Conv1D(filters=32,kernel_size=2, activation='relu', input_shape = (37,1)))\n",
    "model.add(BatchNormalization())\n",
    "model.add(Dropout(0.2))\n",
    "\n",
    "model.add(Conv1D(filters=64,kernel_size=2, activation='relu'))\n",
    "model.add(BatchNormalization())\n",
    "model.add(Dropout(0.5))\n",
    "\n",
    "model.add(Flatten())\n",
    "model.add(Dense(64,activation='relu'))\n",
    "model.add(Dropout(0.5))\n",
    "\n",
    "\n",
    "model.add(Dense(1,activation='sigmoid'))"
   ]
  },
  {
   "cell_type": "code",
   "execution_count": 92,
   "metadata": {
    "colab": {
     "base_uri": "https://localhost:8080/",
     "height": 483
    },
    "colab_type": "code",
    "id": "WId2BqXRQFAj",
    "outputId": "7f76d17d-2a0e-4a16-e58b-f7b26f654dc9"
   },
   "outputs": [
    {
     "name": "stdout",
     "output_type": "stream",
     "text": [
      "Model: \"sequential_5\"\n",
      "_________________________________________________________________\n",
      "Layer (type)                 Output Shape              Param #   \n",
      "=================================================================\n",
      "conv1d_10 (Conv1D)           (None, 36, 32)            96        \n",
      "_________________________________________________________________\n",
      "batch_normalization_10 (Batc (None, 36, 32)            128       \n",
      "_________________________________________________________________\n",
      "dropout_15 (Dropout)         (None, 36, 32)            0         \n",
      "_________________________________________________________________\n",
      "conv1d_11 (Conv1D)           (None, 35, 64)            4160      \n",
      "_________________________________________________________________\n",
      "batch_normalization_11 (Batc (None, 35, 64)            256       \n",
      "_________________________________________________________________\n",
      "dropout_16 (Dropout)         (None, 35, 64)            0         \n",
      "_________________________________________________________________\n",
      "flatten_5 (Flatten)          (None, 2240)              0         \n",
      "_________________________________________________________________\n",
      "dense_10 (Dense)             (None, 64)                143424    \n",
      "_________________________________________________________________\n",
      "dropout_17 (Dropout)         (None, 64)                0         \n",
      "_________________________________________________________________\n",
      "dense_11 (Dense)             (None, 1)                 65        \n",
      "=================================================================\n",
      "Total params: 148,129\n",
      "Trainable params: 147,937\n",
      "Non-trainable params: 192\n",
      "_________________________________________________________________\n"
     ]
    }
   ],
   "source": [
    "model.summary()"
   ]
  },
  {
   "cell_type": "code",
   "execution_count": 0,
   "metadata": {
    "colab": {},
    "colab_type": "code",
    "id": "dyMXBHbRQGpp"
   },
   "outputs": [],
   "source": [
    "model.compile(optimizer=Adam(lr=0.00005),loss='binary_crossentropy',metrics=['accuracy'])"
   ]
  },
  {
   "cell_type": "code",
   "execution_count": 94,
   "metadata": {
    "colab": {
     "base_uri": "https://localhost:8080/",
     "height": 1000
    },
    "colab_type": "code",
    "id": "1wCsbuAJQI8u",
    "outputId": "810cb10d-b164-4856-d97c-6b6dbf722e9a"
   },
   "outputs": [
    {
     "name": "stdout",
     "output_type": "stream",
     "text": [
      "Epoch 1/60\n",
      "8/8 [==============================] - 0s 28ms/step - loss: 0.9919 - accuracy: 0.5991 - val_loss: 0.6868 - val_accuracy: 0.7586\n",
      "Epoch 2/60\n",
      "8/8 [==============================] - 0s 12ms/step - loss: 1.1141 - accuracy: 0.5603 - val_loss: 0.6845 - val_accuracy: 0.7931\n",
      "Epoch 3/60\n",
      "8/8 [==============================] - 0s 14ms/step - loss: 0.9217 - accuracy: 0.6250 - val_loss: 0.6827 - val_accuracy: 0.8103\n",
      "Epoch 4/60\n",
      "8/8 [==============================] - 0s 13ms/step - loss: 0.7741 - accuracy: 0.6638 - val_loss: 0.6808 - val_accuracy: 0.8103\n",
      "Epoch 5/60\n",
      "8/8 [==============================] - 0s 12ms/step - loss: 0.7652 - accuracy: 0.7026 - val_loss: 0.6791 - val_accuracy: 0.8103\n",
      "Epoch 6/60\n",
      "8/8 [==============================] - 0s 12ms/step - loss: 0.6875 - accuracy: 0.7198 - val_loss: 0.6775 - val_accuracy: 0.8448\n",
      "Epoch 7/60\n",
      "8/8 [==============================] - 0s 13ms/step - loss: 0.7718 - accuracy: 0.6810 - val_loss: 0.6756 - val_accuracy: 0.8448\n",
      "Epoch 8/60\n",
      "8/8 [==============================] - 0s 12ms/step - loss: 0.6540 - accuracy: 0.6724 - val_loss: 0.6734 - val_accuracy: 0.8448\n",
      "Epoch 9/60\n",
      "8/8 [==============================] - 0s 14ms/step - loss: 0.6791 - accuracy: 0.7112 - val_loss: 0.6712 - val_accuracy: 0.8448\n",
      "Epoch 10/60\n",
      "8/8 [==============================] - 0s 13ms/step - loss: 0.6365 - accuracy: 0.7328 - val_loss: 0.6689 - val_accuracy: 0.8448\n",
      "Epoch 11/60\n",
      "8/8 [==============================] - 0s 12ms/step - loss: 0.5445 - accuracy: 0.7500 - val_loss: 0.6668 - val_accuracy: 0.8448\n",
      "Epoch 12/60\n",
      "8/8 [==============================] - 0s 12ms/step - loss: 0.6192 - accuracy: 0.7414 - val_loss: 0.6646 - val_accuracy: 0.8621\n",
      "Epoch 13/60\n",
      "8/8 [==============================] - 0s 15ms/step - loss: 0.5229 - accuracy: 0.7241 - val_loss: 0.6615 - val_accuracy: 0.8621\n",
      "Epoch 14/60\n",
      "8/8 [==============================] - 0s 12ms/step - loss: 0.6126 - accuracy: 0.7284 - val_loss: 0.6583 - val_accuracy: 0.8621\n",
      "Epoch 15/60\n",
      "8/8 [==============================] - 0s 13ms/step - loss: 0.4582 - accuracy: 0.7716 - val_loss: 0.6550 - val_accuracy: 0.8621\n",
      "Epoch 16/60\n",
      "8/8 [==============================] - 0s 13ms/step - loss: 0.4662 - accuracy: 0.7672 - val_loss: 0.6514 - val_accuracy: 0.8621\n",
      "Epoch 17/60\n",
      "8/8 [==============================] - 0s 12ms/step - loss: 0.4375 - accuracy: 0.7716 - val_loss: 0.6475 - val_accuracy: 0.8621\n",
      "Epoch 18/60\n",
      "8/8 [==============================] - 0s 13ms/step - loss: 0.5194 - accuracy: 0.7845 - val_loss: 0.6437 - val_accuracy: 0.8621\n",
      "Epoch 19/60\n",
      "8/8 [==============================] - 0s 13ms/step - loss: 0.4065 - accuracy: 0.8190 - val_loss: 0.6400 - val_accuracy: 0.8621\n",
      "Epoch 20/60\n",
      "8/8 [==============================] - 0s 14ms/step - loss: 0.3864 - accuracy: 0.7974 - val_loss: 0.6362 - val_accuracy: 0.8621\n",
      "Epoch 21/60\n",
      "8/8 [==============================] - 0s 13ms/step - loss: 0.4890 - accuracy: 0.7586 - val_loss: 0.6323 - val_accuracy: 0.8621\n",
      "Epoch 22/60\n",
      "8/8 [==============================] - 0s 13ms/step - loss: 0.5373 - accuracy: 0.7672 - val_loss: 0.6283 - val_accuracy: 0.8621\n",
      "Epoch 23/60\n",
      "8/8 [==============================] - 0s 13ms/step - loss: 0.3708 - accuracy: 0.7888 - val_loss: 0.6243 - val_accuracy: 0.8621\n",
      "Epoch 24/60\n",
      "8/8 [==============================] - 0s 13ms/step - loss: 0.4030 - accuracy: 0.8147 - val_loss: 0.6193 - val_accuracy: 0.8621\n",
      "Epoch 25/60\n",
      "8/8 [==============================] - 0s 12ms/step - loss: 0.4794 - accuracy: 0.7802 - val_loss: 0.6141 - val_accuracy: 0.8621\n",
      "Epoch 26/60\n",
      "8/8 [==============================] - 0s 13ms/step - loss: 0.4689 - accuracy: 0.7500 - val_loss: 0.6087 - val_accuracy: 0.8621\n",
      "Epoch 27/60\n",
      "8/8 [==============================] - 0s 12ms/step - loss: 0.3873 - accuracy: 0.8190 - val_loss: 0.6033 - val_accuracy: 0.8621\n",
      "Epoch 28/60\n",
      "8/8 [==============================] - 0s 12ms/step - loss: 0.4557 - accuracy: 0.7500 - val_loss: 0.5982 - val_accuracy: 0.8621\n",
      "Epoch 29/60\n",
      "8/8 [==============================] - 0s 12ms/step - loss: 0.4187 - accuracy: 0.7500 - val_loss: 0.5928 - val_accuracy: 0.8621\n",
      "Epoch 30/60\n",
      "8/8 [==============================] - 0s 14ms/step - loss: 0.4007 - accuracy: 0.8060 - val_loss: 0.5868 - val_accuracy: 0.8621\n",
      "Epoch 31/60\n",
      "8/8 [==============================] - 0s 14ms/step - loss: 0.3246 - accuracy: 0.8362 - val_loss: 0.5805 - val_accuracy: 0.8621\n",
      "Epoch 32/60\n",
      "8/8 [==============================] - 0s 12ms/step - loss: 0.3946 - accuracy: 0.7931 - val_loss: 0.5738 - val_accuracy: 0.8621\n",
      "Epoch 33/60\n",
      "8/8 [==============================] - 0s 12ms/step - loss: 0.3118 - accuracy: 0.8448 - val_loss: 0.5668 - val_accuracy: 0.8621\n",
      "Epoch 34/60\n",
      "8/8 [==============================] - 0s 12ms/step - loss: 0.3621 - accuracy: 0.8060 - val_loss: 0.5596 - val_accuracy: 0.8621\n",
      "Epoch 35/60\n",
      "8/8 [==============================] - 0s 12ms/step - loss: 0.3216 - accuracy: 0.8405 - val_loss: 0.5524 - val_accuracy: 0.8621\n",
      "Epoch 36/60\n",
      "8/8 [==============================] - 0s 12ms/step - loss: 0.2861 - accuracy: 0.8534 - val_loss: 0.5447 - val_accuracy: 0.8621\n",
      "Epoch 37/60\n",
      "8/8 [==============================] - 0s 12ms/step - loss: 0.4019 - accuracy: 0.8276 - val_loss: 0.5366 - val_accuracy: 0.8621\n",
      "Epoch 38/60\n",
      "8/8 [==============================] - 0s 12ms/step - loss: 0.4026 - accuracy: 0.8190 - val_loss: 0.5278 - val_accuracy: 0.8621\n",
      "Epoch 39/60\n",
      "8/8 [==============================] - 0s 14ms/step - loss: 0.3421 - accuracy: 0.8276 - val_loss: 0.5190 - val_accuracy: 0.8621\n",
      "Epoch 40/60\n",
      "8/8 [==============================] - 0s 12ms/step - loss: 0.2875 - accuracy: 0.8578 - val_loss: 0.5113 - val_accuracy: 0.8621\n",
      "Epoch 41/60\n",
      "8/8 [==============================] - 0s 13ms/step - loss: 0.3659 - accuracy: 0.8233 - val_loss: 0.5028 - val_accuracy: 0.8621\n",
      "Epoch 42/60\n",
      "8/8 [==============================] - 0s 13ms/step - loss: 0.3524 - accuracy: 0.8147 - val_loss: 0.4942 - val_accuracy: 0.8621\n",
      "Epoch 43/60\n",
      "8/8 [==============================] - 0s 12ms/step - loss: 0.3996 - accuracy: 0.8060 - val_loss: 0.4847 - val_accuracy: 0.8621\n",
      "Epoch 44/60\n",
      "8/8 [==============================] - 0s 12ms/step - loss: 0.3165 - accuracy: 0.8750 - val_loss: 0.4747 - val_accuracy: 0.8621\n",
      "Epoch 45/60\n",
      "8/8 [==============================] - 0s 13ms/step - loss: 0.3560 - accuracy: 0.7931 - val_loss: 0.4648 - val_accuracy: 0.8621\n",
      "Epoch 46/60\n",
      "8/8 [==============================] - 0s 12ms/step - loss: 0.2918 - accuracy: 0.8319 - val_loss: 0.4543 - val_accuracy: 0.8621\n",
      "Epoch 47/60\n",
      "8/8 [==============================] - 0s 13ms/step - loss: 0.3158 - accuracy: 0.8233 - val_loss: 0.4438 - val_accuracy: 0.8621\n",
      "Epoch 48/60\n",
      "8/8 [==============================] - 0s 13ms/step - loss: 0.4144 - accuracy: 0.7716 - val_loss: 0.4336 - val_accuracy: 0.8621\n",
      "Epoch 49/60\n",
      "8/8 [==============================] - 0s 13ms/step - loss: 0.3053 - accuracy: 0.8578 - val_loss: 0.4232 - val_accuracy: 0.8621\n",
      "Epoch 50/60\n",
      "8/8 [==============================] - 0s 13ms/step - loss: 0.2754 - accuracy: 0.8621 - val_loss: 0.4136 - val_accuracy: 0.8621\n",
      "Epoch 51/60\n",
      "8/8 [==============================] - 0s 12ms/step - loss: 0.4098 - accuracy: 0.7716 - val_loss: 0.4044 - val_accuracy: 0.8621\n",
      "Epoch 52/60\n",
      "8/8 [==============================] - 0s 12ms/step - loss: 0.2787 - accuracy: 0.8664 - val_loss: 0.3944 - val_accuracy: 0.8621\n",
      "Epoch 53/60\n",
      "8/8 [==============================] - 0s 14ms/step - loss: 0.3124 - accuracy: 0.8578 - val_loss: 0.3854 - val_accuracy: 0.8621\n",
      "Epoch 54/60\n",
      "8/8 [==============================] - 0s 13ms/step - loss: 0.3664 - accuracy: 0.8103 - val_loss: 0.3773 - val_accuracy: 0.8276\n",
      "Epoch 55/60\n",
      "8/8 [==============================] - 0s 15ms/step - loss: 0.3105 - accuracy: 0.8190 - val_loss: 0.3688 - val_accuracy: 0.8276\n",
      "Epoch 56/60\n",
      "8/8 [==============================] - 0s 14ms/step - loss: 0.3248 - accuracy: 0.8448 - val_loss: 0.3602 - val_accuracy: 0.8276\n",
      "Epoch 57/60\n",
      "8/8 [==============================] - 0s 13ms/step - loss: 0.3370 - accuracy: 0.8190 - val_loss: 0.3520 - val_accuracy: 0.8276\n",
      "Epoch 58/60\n",
      "8/8 [==============================] - 0s 14ms/step - loss: 0.3303 - accuracy: 0.8060 - val_loss: 0.3437 - val_accuracy: 0.8276\n",
      "Epoch 59/60\n",
      "8/8 [==============================] - 0s 14ms/step - loss: 0.3155 - accuracy: 0.8362 - val_loss: 0.3355 - val_accuracy: 0.8276\n",
      "Epoch 60/60\n",
      "8/8 [==============================] - 0s 13ms/step - loss: 0.2739 - accuracy: 0.8707 - val_loss: 0.3279 - val_accuracy: 0.8276\n"
     ]
    }
   ],
   "source": [
    "history = model.fit(X_train,y_train,epochs=epochs,validation_data=(X_test,y_test),verbose=1)"
   ]
  },
  {
   "cell_type": "code",
   "execution_count": 0,
   "metadata": {
    "colab": {},
    "colab_type": "code",
    "id": "EgFAGPpWQKwx"
   },
   "outputs": [],
   "source": [
    "def plot_learningCurve(history,epoch):\n",
    "  #plot training and validation accuracy values\n",
    "  epoch_range = range(1,epoch+1)\n",
    "  plt.plot(epoch_range, history.history['accuracy'])\n",
    "  plt.plot(epoch_range, history.history['val_accuracy'])\n",
    "  plt.title('Model accracy')\n",
    "  plt.ylabel('Accuracy')\n",
    "  plt.xlabel(\"Epoch\")\n",
    "  plt.legend(['Train','Val'],loc ='upper left')\n",
    "  plt.show()\n",
    "\n",
    "  #plot training & valdiation loss values\n",
    "  plt.plot(epoch_range, history.history['loss'])\n",
    "  plt.plot(epoch_range, history.history['val_loss'])\n",
    "  plt.title('Model loss')\n",
    "  plt.ylabel('Loss')\n",
    "  plt.xlabel(\"Epoch\")\n",
    "  plt.legend(['Train','Val'],loc ='upper left')\n",
    "  plt.show()"
   ]
  },
  {
   "cell_type": "code",
   "execution_count": 96,
   "metadata": {
    "colab": {
     "base_uri": "https://localhost:8080/",
     "height": 573
    },
    "colab_type": "code",
    "id": "drJ23sLOQWt3",
    "outputId": "2c914465-2f99-4317-aaf6-476b30ca3cc5"
   },
   "outputs": [
    {
     "data": {
      "image/png": "[encoded data removed]",
      "text/plain": [
       "<Figure size 432x288 with 1 Axes>"
      ]
     },
     "metadata": {
      "needs_background": "light",
      "tags": []
     },
     "output_type": "display_data"
    },
    {
     "data": {
      "image/png": "[encoded data removed]",
      "text/plain": [
       "<Figure size 432x288 with 1 Axes>"
      ]
     },
     "metadata": {
      "needs_background": "light",
      "tags": []
     },
     "output_type": "display_data"
    }
   ],
   "source": [
    "plot_learningCurve(history,epochs)"
   ]
  },
  {
   "cell_type": "code",
   "execution_count": 97,
   "metadata": {
    "colab": {
     "base_uri": "https://localhost:8080/",
     "height": 347
    },
    "colab_type": "code",
    "id": "t32wa1lsTjyI",
    "outputId": "d03b5327-9f98-46a7-ba1e-0df9e6368007"
   },
   "outputs": [
    {
     "data": {
      "text/html": [
       "<div>\n",
       "<style scoped>\n",
       "    .dataframe tbody tr th:only-of-type {\n",
       "        vertical-align: middle;\n",
       "    }\n",
       "\n",
       "    .dataframe tbody tr th {\n",
       "        vertical-align: top;\n",
       "    }\n",
       "\n",
       "    .dataframe thead th {\n",
       "        text-align: right;\n",
       "    }\n",
       "</style>\n",
       "<table border=\"1\" class=\"dataframe\">\n",
       "  <thead>\n",
       "    <tr style=\"text-align: right;\">\n",
       "      <th></th>\n",
       "      <th>content</th>\n",
       "    </tr>\n",
       "  </thead>\n",
       "  <tbody>\n",
       "    <tr>\n",
       "      <th>0</th>\n",
       "      <td>This animal is similar to the other felid spec...</td>\n",
       "    </tr>\n",
       "    <tr>\n",
       "      <th>1</th>\n",
       "      <td>This animal is similar to the wolf and fox.</td>\n",
       "    </tr>\n",
       "    <tr>\n",
       "      <th>2</th>\n",
       "      <td>This animal can detect a drug when hidden.</td>\n",
       "    </tr>\n",
       "    <tr>\n",
       "      <th>3</th>\n",
       "      <td>One type of animal acts as a guard of things.</td>\n",
       "    </tr>\n",
       "    <tr>\n",
       "      <th>4</th>\n",
       "      <td>Whiskers coughed up a hairball today.</td>\n",
       "    </tr>\n",
       "    <tr>\n",
       "      <th>5</th>\n",
       "      <td>This animal can understand a hand signal if pr...</td>\n",
       "    </tr>\n",
       "    <tr>\n",
       "      <th>6</th>\n",
       "      <td>He has a kitten.</td>\n",
       "    </tr>\n",
       "    <tr>\n",
       "      <th>7</th>\n",
       "      <td>This animal will catch a mouse when it seems i...</td>\n",
       "    </tr>\n",
       "    <tr>\n",
       "      <th>8</th>\n",
       "      <td>He carried a python across the street.</td>\n",
       "    </tr>\n",
       "    <tr>\n",
       "      <th>9</th>\n",
       "      <td>Python programming with machine learning has n...</td>\n",
       "    </tr>\n",
       "  </tbody>\n",
       "</table>\n",
       "</div>"
      ],
      "text/plain": [
       "                                             content\n",
       "0  This animal is similar to the other felid spec...\n",
       "1        This animal is similar to the wolf and fox.\n",
       "2         This animal can detect a drug when hidden.\n",
       "3      One type of animal acts as a guard of things.\n",
       "4              Whiskers coughed up a hairball today.\n",
       "5  This animal can understand a hand signal if pr...\n",
       "6                                   He has a kitten.\n",
       "7  This animal will catch a mouse when it seems i...\n",
       "8             He carried a python across the street.\n",
       "9  Python programming with machine learning has n..."
      ]
     },
     "execution_count": 97,
     "metadata": {
      "tags": []
     },
     "output_type": "execute_result"
    }
   ],
   "source": [
    "#for testing my samples\n",
    "\n",
    "testData = pd.read_csv(\"/content/testSentences.txt\", sep='\\n', header=None)\n",
    "testData.columns = ['content']\n",
    "testData"
   ]
  },
  {
   "cell_type": "code",
   "execution_count": 0,
   "metadata": {
    "colab": {},
    "colab_type": "code",
    "id": "oBmz9bu5mECP"
   },
   "outputs": [],
   "source": [
    "#set stopwords to english\n",
    "stop=set(stopwords.words('english'))\n",
    "\n",
    "\n",
    "#removing the stopwords\n",
    "def remove_stopwords(text, is_lower_case=False):\n",
    "    tokens = tokenizer.tokenize(text)\n",
    "    tokens = [token.strip() for token in tokens]\n",
    "    if is_lower_case:\n",
    "        filtered_tokens = [token for token in tokens if token not in stopword_list]\n",
    "    else:\n",
    "        filtered_tokens = [token for token in tokens if token.lower() not in stopword_list]\n",
    "    filtered_text = ' '.join(filtered_tokens)    \n",
    "    return filtered_text\n",
    "\n",
    "#Apply function on text column\n",
    "testData['content']=testData['content'].apply(remove_stopwords)"
   ]
  },
  {
   "cell_type": "code",
   "execution_count": 99,
   "metadata": {
    "colab": {
     "base_uri": "https://localhost:8080/",
     "height": 1000
    },
    "colab_type": "code",
    "id": "Bs1E81HvQYeN",
    "outputId": "169a2cb0-ee8d-4835-8ebb-b7e184d4babf"
   },
   "outputs": [
    {
     "name": "stdout",
     "output_type": "stream",
     "text": [
      "{'animal': 2, 'similar': 27, 'felid': 9, 'species': 28, 'wolf': 36, 'fox': 10, 'detect': 7, 'drug': 8, 'hidden': 14, 'one': 21, 'type': 33, 'acts': 1, 'guard': 11, 'things': 30, 'whiskers': 35, 'coughed': 6, 'hairball': 12, 'today': 31, 'understand': 34, 'hand': 13, 'signal': 26, 'properly': 23, 'trained': 32, 'kitten': 16, 'catch': 5, 'mouse': 19, 'seems': 25, 'impossible': 15, 'carried': 4, 'python': 24, 'across': 0, 'street': 29, 'programming': 22, 'machine': 18, 'learning': 17, 'nothing': 20, 'animals': 3}\n",
      "[2.70474809 2.70474809 1.45198512 2.70474809 2.70474809 2.70474809\n",
      " 2.70474809 2.70474809 2.70474809 2.70474809 2.70474809 2.70474809\n",
      " 2.70474809 2.70474809 2.70474809 2.70474809 2.70474809 2.70474809\n",
      " 2.70474809 2.70474809 2.70474809 2.70474809 2.70474809 2.70474809\n",
      " 2.29928298 2.70474809 2.70474809 2.29928298 2.70474809 2.70474809\n",
      " 2.70474809 2.70474809 2.70474809 2.70474809 2.70474809 2.70474809\n",
      " 2.70474809]\n",
      "(10, 37)\n",
      "[[0.         0.         0.30937949 0.         0.         0.\n",
      "  0.         0.         0.         0.57631002 0.         0.\n",
      "  0.         0.         0.         0.         0.         0.\n",
      "  0.         0.         0.         0.         0.         0.\n",
      "  0.         0.         0.         0.48991617 0.57631002 0.\n",
      "  0.         0.         0.         0.         0.         0.\n",
      "  0.        ]\n",
      " [0.         0.         0.30937949 0.         0.         0.\n",
      "  0.         0.         0.         0.         0.57631002 0.\n",
      "  0.         0.         0.         0.         0.         0.\n",
      "  0.         0.         0.         0.         0.         0.\n",
      "  0.         0.         0.         0.48991617 0.         0.\n",
      "  0.         0.         0.         0.         0.         0.\n",
      "  0.57631002]\n",
      " [0.         0.         0.29604467 0.         0.         0.\n",
      "  0.         0.55147002 0.55147002 0.         0.         0.\n",
      "  0.         0.         0.55147002 0.         0.         0.\n",
      "  0.         0.         0.         0.         0.         0.\n",
      "  0.         0.         0.         0.         0.         0.\n",
      "  0.         0.         0.         0.         0.         0.\n",
      "  0.        ]\n",
      " [0.         0.43485723 0.23344364 0.         0.         0.\n",
      "  0.         0.         0.         0.         0.         0.43485723\n",
      "  0.         0.         0.         0.         0.         0.\n",
      "  0.         0.         0.         0.43485723 0.         0.\n",
      "  0.         0.         0.         0.         0.         0.\n",
      "  0.43485723 0.         0.         0.43485723 0.         0.\n",
      "  0.        ]\n",
      " [0.         0.         0.         0.         0.         0.\n",
      "  0.5        0.         0.         0.         0.         0.\n",
      "  0.5        0.         0.         0.         0.         0.\n",
      "  0.         0.         0.         0.         0.         0.\n",
      "  0.         0.         0.         0.         0.         0.\n",
      "  0.         0.5        0.         0.         0.         0.5\n",
      "  0.        ]\n",
      " [0.         0.         0.23344364 0.         0.         0.\n",
      "  0.         0.         0.         0.         0.         0.\n",
      "  0.         0.43485723 0.         0.         0.         0.\n",
      "  0.         0.         0.         0.         0.         0.43485723\n",
      "  0.         0.         0.43485723 0.         0.         0.\n",
      "  0.         0.         0.43485723 0.         0.43485723 0.\n",
      "  0.        ]\n",
      " [0.         0.         0.         0.         0.         0.\n",
      "  0.         0.         0.         0.         0.         0.\n",
      "  0.         0.         0.         0.         1.         0.\n",
      "  0.         0.         0.         0.         0.         0.\n",
      "  0.         0.         0.         0.         0.         0.\n",
      "  0.         0.         0.         0.         0.         0.\n",
      "  0.        ]\n",
      " [0.         0.         0.25923797 0.         0.         0.48290674\n",
      "  0.         0.         0.         0.         0.         0.\n",
      "  0.         0.         0.         0.48290674 0.         0.\n",
      "  0.         0.48290674 0.         0.         0.         0.\n",
      "  0.         0.48290674 0.         0.         0.         0.\n",
      "  0.         0.         0.         0.         0.         0.\n",
      "  0.        ]\n",
      " [0.5182909  0.         0.         0.         0.5182909  0.\n",
      "  0.         0.         0.         0.         0.         0.\n",
      "  0.         0.         0.         0.         0.         0.\n",
      "  0.         0.         0.         0.         0.         0.\n",
      "  0.44059462 0.         0.         0.         0.         0.5182909\n",
      "  0.         0.         0.         0.         0.         0.\n",
      "  0.        ]\n",
      " [0.         0.         0.         0.41802399 0.         0.\n",
      "  0.         0.         0.         0.         0.         0.\n",
      "  0.         0.         0.         0.         0.         0.41802399\n",
      "  0.41802399 0.         0.41802399 0.         0.41802399 0.\n",
      "  0.35535858 0.         0.         0.         0.         0.\n",
      "  0.         0.         0.         0.         0.         0.\n",
      "  0.        ]]\n"
     ]
    }
   ],
   "source": [
    "from sklearn.feature_extraction.text import TfidfVectorizer\n",
    "# list of text documents\n",
    "text = testData['content']\n",
    "\n",
    "# create the transform\n",
    "vectorizer = TfidfVectorizer(min_df=0, max_features=37)\n",
    "# tokenize and build vocab\n",
    "vectorizer.fit(text)\n",
    "# summarize\n",
    "print(vectorizer.vocabulary_)\n",
    "print(vectorizer.idf_)\n",
    "# encode document\n",
    "highD_vector = vectorizer.transform(text)\n",
    "# summarize encoded vector\n",
    "print(highD_vector.shape)\n",
    "print(highD_vector.toarray())\n",
    "highD_vector =highD_vector.toarray()"
   ]
  },
  {
   "cell_type": "code",
   "execution_count": 100,
   "metadata": {
    "colab": {
     "base_uri": "https://localhost:8080/",
     "height": 33
    },
    "colab_type": "code",
    "id": "ZIpNXE14SmKa",
    "outputId": "1f527f82-8472-41bf-e0f2-a095bc183e82"
   },
   "outputs": [
    {
     "data": {
      "text/plain": [
       "(10, 37)"
      ]
     },
     "execution_count": 100,
     "metadata": {
      "tags": []
     },
     "output_type": "execute_result"
    }
   ],
   "source": [
    "highD_vector.shape"
   ]
  },
  {
   "cell_type": "code",
   "execution_count": 0,
   "metadata": {
    "colab": {},
    "colab_type": "code",
    "id": "iwbSk6hczqFC"
   },
   "outputs": [],
   "source": [
    "import numpy as np \n",
    "\n",
    "flatten=highD_vector.flatten()\n",
    "input_array = flatten.reshape([10, 37,1])"
   ]
  },
  {
   "cell_type": "code",
   "execution_count": 102,
   "metadata": {
    "colab": {
     "base_uri": "https://localhost:8080/",
     "height": 183
    },
    "colab_type": "code",
    "id": "iuBqCMjx2WfL",
    "outputId": "2a373aed-2a81-4dc3-8672-980b81c9325d"
   },
   "outputs": [
    {
     "name": "stdout",
     "output_type": "stream",
     "text": [
      "[0.8785318]Dog\n",
      "[0.86361]Dog\n",
      "[0.03198174]cat\n",
      "[0.537996]Dog\n",
      "[0.7973918]Dog\n",
      "[0.52897847]Dog\n",
      "[0.74985474]Dog\n",
      "[0.4151338]cat\n",
      "[0.38029507]cat\n",
      "[0.53706473]Dog\n"
     ]
    }
   ],
   "source": [
    "prediction = model.predict(input_array)\n",
    "probability =prediction\n",
    "\n",
    "for i in range(10):\n",
    "  output =probability[i]\n",
    "  print(output, sep='', end='')\n",
    "  print(\"Dog\") if output > 0.5 else print(\"cat\")\n",
    "\n",
    "\n",
    "\n",
    "# Save model\n",
    "#model.save('classification_model.h5')"
   ]
  },
  {
   "cell_type": "code",
   "execution_count": 0,
   "metadata": {
    "colab": {},
    "colab_type": "code",
    "id": "aVsj-CRqmhTw"
   },
   "outputs": [],
   "source": []
  }
 ],
 "metadata": {
  "accelerator": "TPU",
  "colab": {
   "collapsed_sections": [],
   "name": "with_TF_IDF_CNN.ipynb",
   "provenance": []
  },
  "kernelspec": {
   "display_name": "Python 3",
   "language": "python",
   "name": "python3"
  },
  "language_info": {
   "codemirror_mode": {
    "name": "ipython",
    "version": 3
   },
   "file_extension": ".py",
   "mimetype": "text/x-python",
   "name": "python",
   "nbconvert_exporter": "python",
   "pygments_lexer": "ipython3",
   "version": "3.7.6"
  }
 },
 "nbformat": 4,
 "nbformat_minor": 1
}
